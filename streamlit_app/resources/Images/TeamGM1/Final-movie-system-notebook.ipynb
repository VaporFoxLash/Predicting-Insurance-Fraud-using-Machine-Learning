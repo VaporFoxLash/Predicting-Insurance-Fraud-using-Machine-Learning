{
 "cells": [
  {
   "cell_type": "markdown",
   "metadata": {},
   "source": [
    "# EA Movie Recommendation Predict\n",
    "© Explore Data Science Academy\n",
    "\n",
    "## Autonomous Insights (Members)\n",
    "Harmony Mncube\n",
    "\n",
    "Lehlohonolo Radebe\n",
    "\n",
    "Ndumiso Nkosi\n",
    "\n",
    "Kgopotso Tlaka\n",
    "\n",
    "Lesego Precious Lefike\n",
    "\n",
    "Emmanuel Nkosi\n",
    "\n",
    "Phindulo Tshivilinge\n",
    "\n",
    "Yvonne Malinga\n"
   ]
  },
  {
   "cell_type": "markdown",
   "metadata": {},
   "source": [
    "# Unsupervised Predict Student Solution\n",
    "\n",
    "---\n",
    "### Honour Code\n",
    "\n",
    "We {**GM1**}, confirm - by submitting this document - that the solutions in this notebook are a result of our own work and that we abide by the [EDSA honour code](https://drive.google.com/file/d/1QDCjGZJ8-FmJE3bZdIQNwnJyQKPhHZBn/view?usp=sharing).\n",
    "\n",
    "Non-compliance with the honour code constitutes a material breach of contract.\n",
    "\n",
    "### Predict Overview: EA Movie Recommendation Challenge\n",
    "\n",
    "This project aims to build a recommendation system using collaborative filtering and matrix factorization techniques to predict movie ratings and provide personalized movie recommendations to users based on their past movie preferences. The dataset consists of user movie ratings, movie metadata, and user information. The goal is to achieve a low root mean squared error (RMSE) and enhance user engagement by suggesting relevant movies.. Your company has been awarded the contract to:\n",
    "\n",
    "- 1. Analyse the given data;\n",
    "- 2. Find potential errors in the data and clean the existing data set;\n",
    "- 3. Determine if additional features can be added to improve the data set;\n",
    "- 4. Build a model that is capable of predicting;\n",
    "- 5. Compute the accuracy of the model;\n",
    "- 6. Find what features were most important in the model’s prediction decision\n",
    "- 7. Clarify the the model to a non-technical audience.\n",
    "\n",
    "# Problem Statement\n",
    "EA has challenged us to construct a recommendation algorithm based on content or collaborative filtering techniques. The goal is to accurately predict how a user will rate a movie they haven't seen based on their past preferences. Building a functional recommender system holds immense economic potential, exposing users to content they would enjoy and generating revenue while fostering platform affinity."
   ]
  },
  {
   "cell_type": "markdown",
   "metadata": {},
   "source": [
    "# Hypothesis"
   ]
  },
  {
   "cell_type": "markdown",
   "metadata": {},
   "source": [
    "Building a functional recommendation algorithm based on content or collaborative filtering can generate immense economic potential by accurately predicting user ratings for unseen movies, leading to increased revenue and platform affinity."
   ]
  },
  {
   "cell_type": "markdown",
   "metadata": {},
   "source": [
    "# Introduction"
   ]
  },
  {
   "cell_type": "markdown",
   "metadata": {},
   "source": [
    "In this era of technology-driven advancements, recommender systems emerge as pivotal tools, ensuring individuals can navigate the vast landscape of content and make informed choices that resonate with their preferences. Amongst the multitude of applications, one domain stands out prominently: movie content recommendations. This is where intelligent algorithms, akin to those employed by streaming giants like Netflix, Amazon Prime, Showmax, Disney, and others, work their magic to tailor personalized suggestions from an ocean of entertainment options.\n",
    "The value and impact of building a functional recommender system extend far beyond the realm of convenience. It holds the key to unlocking immense economic potential, reshaping the way users engage with content and forging stronger connections between individuals and the platforms they rely upon. Imagine a world where users are seamlessly exposed to content that aligns perfectly with their tastes and desires, igniting a deeper level of engagement, cultivating higher satisfaction levels, and in turn, generating revenue and fostering unwavering platform affinity.\n",
    "\n",
    "Let's embark on an extraordinary adventure that could reshape the landscape of entertainment, while leaving an indelible mark on the lives of millions of users worldwide."
   ]
  },
  {
   "cell_type": "markdown",
   "metadata": {},
   "source": [
    "<a id=\"cont\"></a>\n",
    "\n",
    "# Table of Contents\n",
    "\n",
    "<a href=#one>1. Importing Packages</a>\n",
    "\n",
    "<a href=#two>2. Loading Data</a>\n",
    "\n",
    "<a href=#three>3. Data Preprocessing </a>\n",
    "\n",
    "<a href=#three>4. Merging Data </a>\n",
    "\n",
    "<a href=#four>5. Exploratory Data Analysis(EDA)</a>\n",
    "\n",
    "<a href=#four>6. Word Cloud</a>\n",
    "\n",
    "<a href=#five>7. Feature Engineering</a>\n",
    "\n",
    "<a href=#seven>8. Model Building</a>\n",
    "\n",
    "<a href=#seven>9. Model Explanation</a>\n",
    "\n",
    "<a href=#eight>10. Conclusion</a>\n",
    "\n",
    "<a href=#nine>11. Kaggle Submission</a>\n",
    "\n",
    "<a href=#ten>12. References</a>"
   ]
  },
  {
   "cell_type": "markdown",
   "metadata": {},
   "source": [
    "<a id=\"one\"></a>\n",
    "# 1. Importing Packages\n",
    "<a href=#cont>Back to Table of Contents</a>"
   ]
  },
  {
   "cell_type": "code",
   "execution_count": 1,
   "metadata": {
    "execution": {
     "iopub.execute_input": "2023-07-21T06:24:16.196452Z",
     "iopub.status.busy": "2023-07-21T06:24:16.196012Z",
     "iopub.status.idle": "2023-07-21T06:24:17.235677Z",
     "shell.execute_reply": "2023-07-21T06:24:17.234606Z",
     "shell.execute_reply.started": "2023-07-21T06:24:16.196411Z"
    }
   },
   "outputs": [],
   "source": [
    "# Data processing libraries\n",
    "import numpy as np\n",
    "import pandas as pd\n",
    "import datetime\n",
    "from sklearn import preprocessing\n",
    "from sklearn.datasets import make_blobs\n",
    "from sklearn.preprocessing import StandardScaler\n",
    "from sklearn.feature_extraction.text import TfidfVectorizer\n",
    "from sklearn.feature_extraction.text import CountVectorizer\n",
    "from sklearn.metrics.pairwise import cosine_similarity\n",
    "import re\n",
    "from scipy.sparse import csr_matrix\n",
    "import scipy as sp\n",
    "\n",
    "# Model calculation libraries\n",
    "from sklearn.metrics import mean_squared_error\n",
    "from sklearn.metrics import mean_absolute_error\n",
    "from sklearn.metrics.pairwise import cosine_similarity\n",
    "from time import time\n",
    "\n",
    "# Visualization libraries\n",
    "import matplotlib.pyplot as plt\n",
    "import seaborn as sns\n",
    "import plotly.graph_objs as go\n",
    "from plotly.offline import init_notebook_mode, plot, iplot\n",
    "%matplotlib inline\n",
    "\n",
    "# Modeling libarries\n",
    "from surprise.model_selection import train_test_split\n",
    "from surprise import Reader\n",
    "from surprise import Dataset\n",
    "from surprise import KNNWithMeans \n",
    "from surprise import KNNBasic\n",
    "from surprise.model_selection import cross_validate\n",
    "from surprise.model_selection import GridSearchCV\n",
    "from surprise import SVD\n",
    "from surprise import SVDpp\n",
    "from surprise import NMF\n",
    "from surprise import SlopeOne\n",
    "from surprise import CoClustering\n",
    "import heapq\n",
    "\n",
    "# Hyperparameter tuning\n",
    "from surprise.model_selection import GridSearchCV\n",
    "\n",
    "# warning library\n",
    "import warnings\n",
    "warnings.filterwarnings(\"ignore\")\n",
    "\n",
    "# Packages for saving models\n",
    "import pickle"
   ]
  },
  {
   "cell_type": "markdown",
   "metadata": {},
   "source": [
    "In this project, we will make use of various Python libraries, such as:\n",
    "\n",
    "Pandas a powerful open-source Python library widely used for data manipulation and analysis.\n",
    "\n",
    "Scipy an open-source Python library that offers a wide range of scientific and mathematical functions, including optimization, integration, linear algebra, statistical analysis, and more, making it a valuable tool for scientific computing and data analysis.\n",
    "\n",
    "NumPy for numerical computing that provides powerful arrays and mathematical functions, essential for handling large datasets and performing various numerical operations efficiently.\n",
    "\n",
    "Matplotlib for data visualization, offering a wide range of plotting options to create high-quality charts, graphs, and visual representations of data.\n",
    "\n",
    "Seaborn a powerful open-source Python data visualization library built on top of Matplotlib, providing an easy-to-use interface to create attractive statistical plots, enhancing the aesthetics and insightfulness of data visualizations.\n",
    "\n",
    "WordCloud used for generating visually appealing word clouds, where the size of each word is proportional to its frequency in a given text, making it useful for visualizing word frequency patterns.\n",
    "\n",
    "re (regular expression) provides support for regular expressions, enabling efficient text pattern matching and manipulation, facilitating tasks like search, find, and replace operations in strings.\n",
    "\n",
    "Surprise for building and analyzing recommender systems, providing various collaborative filtering algorithms and evaluation metrics for effective movie and item recommendations.\n",
    "\n",
    "Scikit-learn (sklearn) offers a wide range of tools and algorithms for data preprocessing, classification, regression, clustering, and more, making it a versatile choice for machine learning tasks.\n",
    "\n",
    "Operator provides functional interfaces to perform common operations, such as arithmetic, comparisons, and item access, making it a convenient tool for working with custom data structures and functions.\n",
    "\n",
    "Heapq implements the heap queue algorithm, providing efficient operations for adding, removing, and finding the smallest elements in a collection, making it useful for priority queue tasks.\n",
    "\n",
    "Warnings to control how warning messages are displayed or handled during runtime, providing developers with useful information about potential issues or deprecations in their code."
   ]
  },
  {
   "cell_type": "markdown",
   "metadata": {},
   "source": [
    "<a id=\"two\"></a>\n",
    "# 2. Loading the Data\n",
    "<a class=\"anchor\" id=\"1.1\"></a>\n",
    "<a href=#cont>Back to Table of Contents</a>"
   ]
  },
  {
   "cell_type": "markdown",
   "metadata": {},
   "source": [
    "To begin our data analysis, our first step involves loading the data from the CSV file into DataFrames. DataFrames provide a structured and organized representation of the CSV data, where each row corresponds to a record from the file, and each column represents a specific attribute or field. This also serves as a crucial foundation for our data analysis workflow, providing us with a versatile and efficient data structure to extract valuable insights and unlock the full potential of the data at hand."
   ]
  },
  {
   "cell_type": "code",
   "execution_count": 2,
   "metadata": {
    "execution": {
     "iopub.execute_input": "2023-07-21T06:24:34.882171Z",
     "iopub.status.busy": "2023-07-21T06:24:34.881752Z",
     "iopub.status.idle": "2023-07-21T06:24:34.903032Z",
     "shell.execute_reply": "2023-07-21T06:24:34.901636Z",
     "shell.execute_reply.started": "2023-07-21T06:24:34.882132Z"
    }
   },
   "outputs": [
    {
     "data": {
      "text/html": [
       "<div>\n",
       "<style scoped>\n",
       "    .dataframe tbody tr th:only-of-type {\n",
       "        vertical-align: middle;\n",
       "    }\n",
       "\n",
       "    .dataframe tbody tr th {\n",
       "        vertical-align: top;\n",
       "    }\n",
       "\n",
       "    .dataframe thead th {\n",
       "        text-align: right;\n",
       "    }\n",
       "</style>\n",
       "<table border=\"1\" class=\"dataframe\">\n",
       "  <thead>\n",
       "    <tr style=\"text-align: right;\">\n",
       "      <th></th>\n",
       "      <th>userId</th>\n",
       "      <th>movieId</th>\n",
       "      <th>rating</th>\n",
       "      <th>timestamp</th>\n",
       "    </tr>\n",
       "  </thead>\n",
       "  <tbody>\n",
       "    <tr>\n",
       "      <th>0</th>\n",
       "      <td>5163</td>\n",
       "      <td>57669</td>\n",
       "      <td>4.0</td>\n",
       "      <td>1518349992</td>\n",
       "    </tr>\n",
       "    <tr>\n",
       "      <th>1</th>\n",
       "      <td>106343</td>\n",
       "      <td>5</td>\n",
       "      <td>4.5</td>\n",
       "      <td>1206238739</td>\n",
       "    </tr>\n",
       "  </tbody>\n",
       "</table>\n",
       "</div>"
      ],
      "text/plain": [
       "   userId  movieId  rating   timestamp\n",
       "0    5163    57669     4.0  1518349992\n",
       "1  106343        5     4.5  1206238739"
      ]
     },
     "execution_count": 2,
     "metadata": {},
     "output_type": "execute_result"
    }
   ],
   "source": [
    "df_train = pd.read_csv('train.csv')\n",
    "df_train.head(2)"
   ]
  },
  {
   "cell_type": "code",
   "execution_count": 3,
   "metadata": {
    "execution": {
     "iopub.execute_input": "2023-07-21T06:24:34.905354Z",
     "iopub.status.busy": "2023-07-21T06:24:34.904456Z",
     "iopub.status.idle": "2023-07-21T06:24:34.916636Z",
     "shell.execute_reply": "2023-07-21T06:24:34.915507Z",
     "shell.execute_reply.started": "2023-07-21T06:24:34.905318Z"
    },
    "scrolled": true
   },
   "outputs": [
    {
     "data": {
      "text/html": [
       "<div>\n",
       "<style scoped>\n",
       "    .dataframe tbody tr th:only-of-type {\n",
       "        vertical-align: middle;\n",
       "    }\n",
       "\n",
       "    .dataframe tbody tr th {\n",
       "        vertical-align: top;\n",
       "    }\n",
       "\n",
       "    .dataframe thead th {\n",
       "        text-align: right;\n",
       "    }\n",
       "</style>\n",
       "<table border=\"1\" class=\"dataframe\">\n",
       "  <thead>\n",
       "    <tr style=\"text-align: right;\">\n",
       "      <th></th>\n",
       "      <th>movieId</th>\n",
       "      <th>title</th>\n",
       "      <th>genres</th>\n",
       "    </tr>\n",
       "  </thead>\n",
       "  <tbody>\n",
       "    <tr>\n",
       "      <th>0</th>\n",
       "      <td>1</td>\n",
       "      <td>Toy Story (1995)</td>\n",
       "      <td>Adventure|Animation|Children|Comedy|Fantasy</td>\n",
       "    </tr>\n",
       "    <tr>\n",
       "      <th>1</th>\n",
       "      <td>2</td>\n",
       "      <td>Jumanji (1995)</td>\n",
       "      <td>Adventure|Children|Fantasy</td>\n",
       "    </tr>\n",
       "  </tbody>\n",
       "</table>\n",
       "</div>"
      ],
      "text/plain": [
       "   movieId             title                                       genres\n",
       "0        1  Toy Story (1995)  Adventure|Animation|Children|Comedy|Fantasy\n",
       "1        2    Jumanji (1995)                   Adventure|Children|Fantasy"
      ]
     },
     "execution_count": 3,
     "metadata": {},
     "output_type": "execute_result"
    }
   ],
   "source": [
    "df_movie = pd.read_csv('movies.csv')\n",
    "df_movie.head(2)"
   ]
  },
  {
   "cell_type": "code",
   "execution_count": 4,
   "metadata": {},
   "outputs": [
    {
     "data": {
      "text/html": [
       "<div>\n",
       "<style scoped>\n",
       "    .dataframe tbody tr th:only-of-type {\n",
       "        vertical-align: middle;\n",
       "    }\n",
       "\n",
       "    .dataframe tbody tr th {\n",
       "        vertical-align: top;\n",
       "    }\n",
       "\n",
       "    .dataframe thead th {\n",
       "        text-align: right;\n",
       "    }\n",
       "</style>\n",
       "<table border=\"1\" class=\"dataframe\">\n",
       "  <thead>\n",
       "    <tr style=\"text-align: right;\">\n",
       "      <th></th>\n",
       "      <th>movieId</th>\n",
       "      <th>title_cast</th>\n",
       "      <th>director</th>\n",
       "      <th>runtime</th>\n",
       "      <th>budget</th>\n",
       "      <th>plot_keywords</th>\n",
       "    </tr>\n",
       "  </thead>\n",
       "  <tbody>\n",
       "    <tr>\n",
       "      <th>0</th>\n",
       "      <td>1</td>\n",
       "      <td>Tom Hanks|Tim Allen|Don Rickles|Jim Varney|Wal...</td>\n",
       "      <td>John Lasseter</td>\n",
       "      <td>81.0</td>\n",
       "      <td>$30,000,000</td>\n",
       "      <td>toy|rivalry|cowboy|cgi animation</td>\n",
       "    </tr>\n",
       "    <tr>\n",
       "      <th>1</th>\n",
       "      <td>2</td>\n",
       "      <td>Robin Williams|Jonathan Hyde|Kirsten Dunst|Bra...</td>\n",
       "      <td>Jonathan Hensleigh</td>\n",
       "      <td>104.0</td>\n",
       "      <td>$65,000,000</td>\n",
       "      <td>board game|adventurer|fight|game</td>\n",
       "    </tr>\n",
       "  </tbody>\n",
       "</table>\n",
       "</div>"
      ],
      "text/plain": [
       "   movieId                                         title_cast  \\\n",
       "0        1  Tom Hanks|Tim Allen|Don Rickles|Jim Varney|Wal...   \n",
       "1        2  Robin Williams|Jonathan Hyde|Kirsten Dunst|Bra...   \n",
       "\n",
       "             director  runtime       budget                     plot_keywords  \n",
       "0       John Lasseter     81.0  $30,000,000  toy|rivalry|cowboy|cgi animation  \n",
       "1  Jonathan Hensleigh    104.0  $65,000,000  board game|adventurer|fight|game  "
      ]
     },
     "execution_count": 4,
     "metadata": {},
     "output_type": "execute_result"
    }
   ],
   "source": [
    "df_imdb = pd.read_csv('imdb_data.csv')\n",
    "df_imdb.head(2)"
   ]
  },
  {
   "cell_type": "code",
   "execution_count": 5,
   "metadata": {},
   "outputs": [
    {
     "data": {
      "text/html": [
       "<div>\n",
       "<style scoped>\n",
       "    .dataframe tbody tr th:only-of-type {\n",
       "        vertical-align: middle;\n",
       "    }\n",
       "\n",
       "    .dataframe tbody tr th {\n",
       "        vertical-align: top;\n",
       "    }\n",
       "\n",
       "    .dataframe thead th {\n",
       "        text-align: right;\n",
       "    }\n",
       "</style>\n",
       "<table border=\"1\" class=\"dataframe\">\n",
       "  <thead>\n",
       "    <tr style=\"text-align: right;\">\n",
       "      <th></th>\n",
       "      <th>userId</th>\n",
       "      <th>movieId</th>\n",
       "      <th>tag</th>\n",
       "      <th>timestamp</th>\n",
       "    </tr>\n",
       "  </thead>\n",
       "  <tbody>\n",
       "    <tr>\n",
       "      <th>0</th>\n",
       "      <td>3</td>\n",
       "      <td>260</td>\n",
       "      <td>classic</td>\n",
       "      <td>1439472355</td>\n",
       "    </tr>\n",
       "    <tr>\n",
       "      <th>1</th>\n",
       "      <td>3</td>\n",
       "      <td>260</td>\n",
       "      <td>sci-fi</td>\n",
       "      <td>1439472256</td>\n",
       "    </tr>\n",
       "  </tbody>\n",
       "</table>\n",
       "</div>"
      ],
      "text/plain": [
       "   userId  movieId      tag   timestamp\n",
       "0       3      260  classic  1439472355\n",
       "1       3      260   sci-fi  1439472256"
      ]
     },
     "execution_count": 5,
     "metadata": {},
     "output_type": "execute_result"
    }
   ],
   "source": [
    "df_tag = pd.read_csv('tags.csv')\n",
    "df_tag.head(2)"
   ]
  },
  {
   "cell_type": "code",
   "execution_count": 6,
   "metadata": {},
   "outputs": [
    {
     "data": {
      "text/html": [
       "<div>\n",
       "<style scoped>\n",
       "    .dataframe tbody tr th:only-of-type {\n",
       "        vertical-align: middle;\n",
       "    }\n",
       "\n",
       "    .dataframe tbody tr th {\n",
       "        vertical-align: top;\n",
       "    }\n",
       "\n",
       "    .dataframe thead th {\n",
       "        text-align: right;\n",
       "    }\n",
       "</style>\n",
       "<table border=\"1\" class=\"dataframe\">\n",
       "  <thead>\n",
       "    <tr style=\"text-align: right;\">\n",
       "      <th></th>\n",
       "      <th>tagId</th>\n",
       "      <th>tag</th>\n",
       "    </tr>\n",
       "  </thead>\n",
       "  <tbody>\n",
       "    <tr>\n",
       "      <th>0</th>\n",
       "      <td>1</td>\n",
       "      <td>007</td>\n",
       "    </tr>\n",
       "    <tr>\n",
       "      <th>1</th>\n",
       "      <td>2</td>\n",
       "      <td>007 (series)</td>\n",
       "    </tr>\n",
       "  </tbody>\n",
       "</table>\n",
       "</div>"
      ],
      "text/plain": [
       "   tagId           tag\n",
       "0      1           007\n",
       "1      2  007 (series)"
      ]
     },
     "execution_count": 6,
     "metadata": {},
     "output_type": "execute_result"
    }
   ],
   "source": [
    "df_genome_tag = pd.read_csv('genome_tags.csv')\n",
    "df_genome_tag.head(2)"
   ]
  },
  {
   "cell_type": "code",
   "execution_count": 7,
   "metadata": {},
   "outputs": [
    {
     "data": {
      "text/html": [
       "<div>\n",
       "<style scoped>\n",
       "    .dataframe tbody tr th:only-of-type {\n",
       "        vertical-align: middle;\n",
       "    }\n",
       "\n",
       "    .dataframe tbody tr th {\n",
       "        vertical-align: top;\n",
       "    }\n",
       "\n",
       "    .dataframe thead th {\n",
       "        text-align: right;\n",
       "    }\n",
       "</style>\n",
       "<table border=\"1\" class=\"dataframe\">\n",
       "  <thead>\n",
       "    <tr style=\"text-align: right;\">\n",
       "      <th></th>\n",
       "      <th>movieId</th>\n",
       "      <th>tagId</th>\n",
       "      <th>relevance</th>\n",
       "    </tr>\n",
       "  </thead>\n",
       "  <tbody>\n",
       "    <tr>\n",
       "      <th>0</th>\n",
       "      <td>1</td>\n",
       "      <td>1</td>\n",
       "      <td>0.02875</td>\n",
       "    </tr>\n",
       "    <tr>\n",
       "      <th>1</th>\n",
       "      <td>1</td>\n",
       "      <td>2</td>\n",
       "      <td>0.02375</td>\n",
       "    </tr>\n",
       "  </tbody>\n",
       "</table>\n",
       "</div>"
      ],
      "text/plain": [
       "   movieId  tagId  relevance\n",
       "0        1      1    0.02875\n",
       "1        1      2    0.02375"
      ]
     },
     "execution_count": 7,
     "metadata": {},
     "output_type": "execute_result"
    }
   ],
   "source": [
    "df_genome_score = pd.read_csv('genome_scores.csv')\n",
    "df_genome_score.head(2)"
   ]
  },
  {
   "cell_type": "code",
   "execution_count": 8,
   "metadata": {},
   "outputs": [
    {
     "data": {
      "text/html": [
       "<div>\n",
       "<style scoped>\n",
       "    .dataframe tbody tr th:only-of-type {\n",
       "        vertical-align: middle;\n",
       "    }\n",
       "\n",
       "    .dataframe tbody tr th {\n",
       "        vertical-align: top;\n",
       "    }\n",
       "\n",
       "    .dataframe thead th {\n",
       "        text-align: right;\n",
       "    }\n",
       "</style>\n",
       "<table border=\"1\" class=\"dataframe\">\n",
       "  <thead>\n",
       "    <tr style=\"text-align: right;\">\n",
       "      <th></th>\n",
       "      <th>movieId</th>\n",
       "      <th>imdbId</th>\n",
       "      <th>tmdbId</th>\n",
       "    </tr>\n",
       "  </thead>\n",
       "  <tbody>\n",
       "    <tr>\n",
       "      <th>0</th>\n",
       "      <td>1</td>\n",
       "      <td>114709</td>\n",
       "      <td>862.0</td>\n",
       "    </tr>\n",
       "    <tr>\n",
       "      <th>1</th>\n",
       "      <td>2</td>\n",
       "      <td>113497</td>\n",
       "      <td>8844.0</td>\n",
       "    </tr>\n",
       "  </tbody>\n",
       "</table>\n",
       "</div>"
      ],
      "text/plain": [
       "   movieId  imdbId  tmdbId\n",
       "0        1  114709   862.0\n",
       "1        2  113497  8844.0"
      ]
     },
     "execution_count": 8,
     "metadata": {},
     "output_type": "execute_result"
    }
   ],
   "source": [
    "df_link = pd.read_csv('links.csv')\n",
    "df_link.head(2)"
   ]
  },
  {
   "cell_type": "code",
   "execution_count": 9,
   "metadata": {},
   "outputs": [
    {
     "data": {
      "text/html": [
       "<div>\n",
       "<style scoped>\n",
       "    .dataframe tbody tr th:only-of-type {\n",
       "        vertical-align: middle;\n",
       "    }\n",
       "\n",
       "    .dataframe tbody tr th {\n",
       "        vertical-align: top;\n",
       "    }\n",
       "\n",
       "    .dataframe thead th {\n",
       "        text-align: right;\n",
       "    }\n",
       "</style>\n",
       "<table border=\"1\" class=\"dataframe\">\n",
       "  <thead>\n",
       "    <tr style=\"text-align: right;\">\n",
       "      <th></th>\n",
       "      <th>userId</th>\n",
       "      <th>movieId</th>\n",
       "    </tr>\n",
       "  </thead>\n",
       "  <tbody>\n",
       "    <tr>\n",
       "      <th>0</th>\n",
       "      <td>1</td>\n",
       "      <td>2011</td>\n",
       "    </tr>\n",
       "    <tr>\n",
       "      <th>1</th>\n",
       "      <td>1</td>\n",
       "      <td>4144</td>\n",
       "    </tr>\n",
       "  </tbody>\n",
       "</table>\n",
       "</div>"
      ],
      "text/plain": [
       "   userId  movieId\n",
       "0       1     2011\n",
       "1       1     4144"
      ]
     },
     "execution_count": 9,
     "metadata": {},
     "output_type": "execute_result"
    }
   ],
   "source": [
    "df_test = pd.read_csv('test.csv')\n",
    "df_test.head(2)"
   ]
  },
  {
   "cell_type": "markdown",
   "metadata": {},
   "source": [
    "<a id=\"one\"></a>\n",
    "# 3. Data Preprocessing\n",
    "<a href=#cont>Back to Table of Contents</a>"
   ]
  },
  {
   "cell_type": "markdown",
   "metadata": {},
   "source": [
    "This is a vital step as it ensures that the data used for analysis is accurate and reliable. By removing errors, inconsistencies, and missing values, we enhance the quality of the dataset, leading to more accurate and meaningful insights. Preprocessing also helps in transforming the data into a suitable format for machine learning algorithms, improving their performance and efficiency."
   ]
  },
  {
   "cell_type": "markdown",
   "metadata": {},
   "source": [
    "#####  Extract year from the title"
   ]
  },
  {
   "cell_type": "markdown",
   "metadata": {},
   "source": [
    "We extract the year from the title column in the movies table to obtain the release year of each movie. This information is valuable for analyzing movie trends over time, grouping movies by release year, and providing additional context for movie recommendations based on user preferences."
   ]
  },
  {
   "cell_type": "code",
   "execution_count": 10,
   "metadata": {},
   "outputs": [
    {
     "data": {
      "text/html": [
       "<div>\n",
       "<style scoped>\n",
       "    .dataframe tbody tr th:only-of-type {\n",
       "        vertical-align: middle;\n",
       "    }\n",
       "\n",
       "    .dataframe tbody tr th {\n",
       "        vertical-align: top;\n",
       "    }\n",
       "\n",
       "    .dataframe thead th {\n",
       "        text-align: right;\n",
       "    }\n",
       "</style>\n",
       "<table border=\"1\" class=\"dataframe\">\n",
       "  <thead>\n",
       "    <tr style=\"text-align: right;\">\n",
       "      <th></th>\n",
       "      <th>movieId</th>\n",
       "      <th>title</th>\n",
       "      <th>genres</th>\n",
       "      <th>year</th>\n",
       "    </tr>\n",
       "  </thead>\n",
       "  <tbody>\n",
       "    <tr>\n",
       "      <th>0</th>\n",
       "      <td>1</td>\n",
       "      <td>Toy Story</td>\n",
       "      <td>Adventure|Animation|Children|Comedy|Fantasy</td>\n",
       "      <td>1995</td>\n",
       "    </tr>\n",
       "    <tr>\n",
       "      <th>1</th>\n",
       "      <td>2</td>\n",
       "      <td>Jumanji</td>\n",
       "      <td>Adventure|Children|Fantasy</td>\n",
       "      <td>1995</td>\n",
       "    </tr>\n",
       "  </tbody>\n",
       "</table>\n",
       "</div>"
      ],
      "text/plain": [
       "   movieId      title                                       genres  year\n",
       "0        1  Toy Story  Adventure|Animation|Children|Comedy|Fantasy  1995\n",
       "1        2    Jumanji                   Adventure|Children|Fantasy  1995"
      ]
     },
     "execution_count": 10,
     "metadata": {},
     "output_type": "execute_result"
    }
   ],
   "source": [
    "# Extract the year from the 'title' column using regular expressions and convert to string\n",
    "df_movie['year'] = df_movie['title'].str.extract(r'\\((\\d{4})\\)$').fillna('')\n",
    "\n",
    "# Drop the parentheses and year from the 'title' column\n",
    "df_movie['title'] = df_movie['title'].str.replace(r'\\s*\\(\\d{4}\\)$', '')\n",
    "\n",
    "# Display the updated dataframe\n",
    "df_movie.head(2)"
   ]
  },
  {
   "cell_type": "markdown",
   "metadata": {},
   "source": [
    "##### Pre process the budget column\n",
    "<li>Removes commas from the 'budget' column.</li>\n",
    "<li>Extracts only the numeric part from the 'budget' column.</li>\n",
    "<li>Converts the 'budget' values to float.</li>\n",
    "<li>Fills any missing (NaN) values with 0.</li>\n",
    "<li>Finally, converts the 'budget' values to integers.</li>"
   ]
  },
  {
   "cell_type": "markdown",
   "metadata": {},
   "source": [
    "We preprocess the budget column to convert the budget values into a numerical format (integer or float) that can be used for analysis"
   ]
  },
  {
   "cell_type": "code",
   "execution_count": 11,
   "metadata": {},
   "outputs": [
    {
     "data": {
      "text/html": [
       "<div>\n",
       "<style scoped>\n",
       "    .dataframe tbody tr th:only-of-type {\n",
       "        vertical-align: middle;\n",
       "    }\n",
       "\n",
       "    .dataframe tbody tr th {\n",
       "        vertical-align: top;\n",
       "    }\n",
       "\n",
       "    .dataframe thead th {\n",
       "        text-align: right;\n",
       "    }\n",
       "</style>\n",
       "<table border=\"1\" class=\"dataframe\">\n",
       "  <thead>\n",
       "    <tr style=\"text-align: right;\">\n",
       "      <th></th>\n",
       "      <th>movieId</th>\n",
       "      <th>title_cast</th>\n",
       "      <th>director</th>\n",
       "      <th>runtime</th>\n",
       "      <th>budget</th>\n",
       "      <th>plot_keywords</th>\n",
       "    </tr>\n",
       "  </thead>\n",
       "  <tbody>\n",
       "    <tr>\n",
       "      <th>0</th>\n",
       "      <td>1</td>\n",
       "      <td>Tom Hanks|Tim Allen|Don Rickles|Jim Varney|Wal...</td>\n",
       "      <td>John Lasseter</td>\n",
       "      <td>81.0</td>\n",
       "      <td>30000000</td>\n",
       "      <td>toy|rivalry|cowboy|cgi animation</td>\n",
       "    </tr>\n",
       "    <tr>\n",
       "      <th>1</th>\n",
       "      <td>2</td>\n",
       "      <td>Robin Williams|Jonathan Hyde|Kirsten Dunst|Bra...</td>\n",
       "      <td>Jonathan Hensleigh</td>\n",
       "      <td>104.0</td>\n",
       "      <td>65000000</td>\n",
       "      <td>board game|adventurer|fight|game</td>\n",
       "    </tr>\n",
       "  </tbody>\n",
       "</table>\n",
       "</div>"
      ],
      "text/plain": [
       "   movieId                                         title_cast  \\\n",
       "0        1  Tom Hanks|Tim Allen|Don Rickles|Jim Varney|Wal...   \n",
       "1        2  Robin Williams|Jonathan Hyde|Kirsten Dunst|Bra...   \n",
       "\n",
       "             director  runtime    budget                     plot_keywords  \n",
       "0       John Lasseter     81.0  30000000  toy|rivalry|cowboy|cgi animation  \n",
       "1  Jonathan Hensleigh    104.0  65000000  board game|adventurer|fight|game  "
      ]
     },
     "execution_count": 11,
     "metadata": {},
     "output_type": "execute_result"
    }
   ],
   "source": [
    "df_imdb['budget'] = df_imdb['budget'].str.replace(',', '').str.extract('(\\d+)').astype(float).fillna(0).astype(int)\n",
    "df_imdb.head(2)"
   ]
  },
  {
   "cell_type": "markdown",
   "metadata": {},
   "source": [
    "#####  Check null values"
   ]
  },
  {
   "cell_type": "markdown",
   "metadata": {},
   "source": [
    " By identifying and handling null values appropriately, we ensure that our data is complete and accurate"
   ]
  },
  {
   "cell_type": "code",
   "execution_count": 12,
   "metadata": {},
   "outputs": [],
   "source": [
    "#Check for null values\n",
    "def check_null_values(file_paths):\n",
    "    null_counts = {}\n",
    "\n",
    "    for file_path in file_paths:\n",
    "        df = pd.read_csv(file_path)  # Assuming the files are in CSV format\n",
    "        null_counts[file_path] = df.isnull().sum()\n",
    "\n",
    "    return null_counts"
   ]
  },
  {
   "cell_type": "code",
   "execution_count": 13,
   "metadata": {},
   "outputs": [
    {
     "name": "stdout",
     "output_type": "stream",
     "text": [
      "Null values in train.csv:\n",
      "userId       0\n",
      "movieId      0\n",
      "rating       0\n",
      "timestamp    0\n",
      "dtype: int64\n",
      "\n",
      "Null values in test.csv:\n",
      "userId     0\n",
      "movieId    0\n",
      "dtype: int64\n",
      "\n",
      "Null values in tags.csv:\n",
      "userId        0\n",
      "movieId       0\n",
      "tag          16\n",
      "timestamp     0\n",
      "dtype: int64\n",
      "\n",
      "Null values in movies.csv:\n",
      "movieId    0\n",
      "title      0\n",
      "genres     0\n",
      "dtype: int64\n",
      "\n",
      "Null values in links.csv:\n",
      "movieId      0\n",
      "imdbId       0\n",
      "tmdbId     107\n",
      "dtype: int64\n",
      "\n",
      "Null values in imdb_data.csv:\n",
      "movieId              0\n",
      "title_cast       10068\n",
      "director          9874\n",
      "runtime          12089\n",
      "budget           19372\n",
      "plot_keywords    11078\n",
      "dtype: int64\n",
      "\n",
      "Null values in genome_tags.csv:\n",
      "tagId    0\n",
      "tag      0\n",
      "dtype: int64\n",
      "\n",
      "Null values in genome_scores.csv:\n",
      "movieId      0\n",
      "tagId        0\n",
      "relevance    0\n",
      "dtype: int64\n",
      "\n"
     ]
    }
   ],
   "source": [
    "file_paths = ['train.csv', \n",
    "              'test.csv', \n",
    "              'tags.csv',\n",
    "              'movies.csv',\n",
    "              'links.csv',\n",
    "              'imdb_data.csv',\n",
    "              'genome_tags.csv',\n",
    "              'genome_scores.csv']\n",
    "null_counts = check_null_values(file_paths)\n",
    "\n",
    "# Print the null value counts for each file\n",
    "for file_path, null_count in null_counts.items():\n",
    "    print(f\"Null values in {file_path}:\")\n",
    "    print(null_count)\n",
    "    print()"
   ]
  },
  {
   "cell_type": "markdown",
   "metadata": {},
   "source": [
    "#####  Handle Null Values\n",
    "<li>Drop</li>"
   ]
  },
  {
   "cell_type": "code",
   "execution_count": 14,
   "metadata": {},
   "outputs": [],
   "source": [
    "# Handle null values in tags.csv\n",
    "df_tag.dropna(subset=['tag'], inplace=True)\n",
    "\n",
    "# Handle null values in imdb_data.csv\n",
    "df_imdb.dropna(subset=['runtime', 'budget'], inplace=True)\n",
    "\n",
    "# Handle null values in links.csv\n",
    "df_link.dropna(subset=['tmdbId'], inplace=True)\n",
    "\n",
    "# Handle null values in genome_scores.csv\n",
    "df_genome_score.dropna(inplace=True)\n",
    "\n",
    "# Handle null values in genome_tags.csv (no null values in this DataFrame, so no action needed)"
   ]
  },
  {
   "cell_type": "markdown",
   "metadata": {},
   "source": [
    "<a id=\"one\"></a>\n",
    "# 4. Merging Data\n",
    "<a href=#cont>Back to Table of Contents</a>"
   ]
  },
  {
   "cell_type": "markdown",
   "metadata": {},
   "source": [
    "Here we merged the dataset which is necessary when dealing with recommendation systems. These systems aim to predict user preferences based on past interactions with movies. By merging the relevant data, such as user ratings and movie information, into a single dataset or constructing a utility matrix, we can build a comprehensive representation of user-item interactions. This consolidated data is then used to train machine learning models to make personalized recommendations for users."
   ]
  },
  {
   "cell_type": "code",
   "execution_count": 15,
   "metadata": {},
   "outputs": [
    {
     "data": {
      "text/html": [
       "<div>\n",
       "<style scoped>\n",
       "    .dataframe tbody tr th:only-of-type {\n",
       "        vertical-align: middle;\n",
       "    }\n",
       "\n",
       "    .dataframe tbody tr th {\n",
       "        vertical-align: top;\n",
       "    }\n",
       "\n",
       "    .dataframe thead th {\n",
       "        text-align: right;\n",
       "    }\n",
       "</style>\n",
       "<table border=\"1\" class=\"dataframe\">\n",
       "  <thead>\n",
       "    <tr style=\"text-align: right;\">\n",
       "      <th></th>\n",
       "      <th>userId</th>\n",
       "      <th>movieId</th>\n",
       "      <th>rating</th>\n",
       "      <th>timestamp</th>\n",
       "      <th>title</th>\n",
       "      <th>genres</th>\n",
       "      <th>year</th>\n",
       "    </tr>\n",
       "  </thead>\n",
       "  <tbody>\n",
       "    <tr>\n",
       "      <th>0</th>\n",
       "      <td>5163</td>\n",
       "      <td>57669</td>\n",
       "      <td>4.0</td>\n",
       "      <td>1518349992</td>\n",
       "      <td>In Bruges</td>\n",
       "      <td>Comedy|Crime|Drama|Thriller</td>\n",
       "      <td>2008</td>\n",
       "    </tr>\n",
       "    <tr>\n",
       "      <th>1</th>\n",
       "      <td>87388</td>\n",
       "      <td>57669</td>\n",
       "      <td>3.5</td>\n",
       "      <td>1237455297</td>\n",
       "      <td>In Bruges</td>\n",
       "      <td>Comedy|Crime|Drama|Thriller</td>\n",
       "      <td>2008</td>\n",
       "    </tr>\n",
       "  </tbody>\n",
       "</table>\n",
       "</div>"
      ],
      "text/plain": [
       "   userId  movieId  rating   timestamp      title  \\\n",
       "0    5163    57669     4.0  1518349992  In Bruges   \n",
       "1   87388    57669     3.5  1237455297  In Bruges   \n",
       "\n",
       "                        genres  year  \n",
       "0  Comedy|Crime|Drama|Thriller  2008  \n",
       "1  Comedy|Crime|Drama|Thriller  2008  "
      ]
     },
     "execution_count": 15,
     "metadata": {},
     "output_type": "execute_result"
    }
   ],
   "source": [
    "# Merge train data with movie data\n",
    "df_train_merged_movie = df_train.merge(df_movie, on='movieId')\n",
    "df_train_merged_movie.head(2)"
   ]
  },
  {
   "cell_type": "code",
   "execution_count": 16,
   "metadata": {},
   "outputs": [
    {
     "data": {
      "text/html": [
       "<div>\n",
       "<style scoped>\n",
       "    .dataframe tbody tr th:only-of-type {\n",
       "        vertical-align: middle;\n",
       "    }\n",
       "\n",
       "    .dataframe tbody tr th {\n",
       "        vertical-align: top;\n",
       "    }\n",
       "\n",
       "    .dataframe thead th {\n",
       "        text-align: right;\n",
       "    }\n",
       "</style>\n",
       "<table border=\"1\" class=\"dataframe\">\n",
       "  <thead>\n",
       "    <tr style=\"text-align: right;\">\n",
       "      <th></th>\n",
       "      <th>userId</th>\n",
       "      <th>movieId</th>\n",
       "      <th>rating</th>\n",
       "      <th>timestamp</th>\n",
       "      <th>title_cast</th>\n",
       "      <th>director</th>\n",
       "      <th>runtime</th>\n",
       "      <th>budget</th>\n",
       "      <th>plot_keywords</th>\n",
       "    </tr>\n",
       "  </thead>\n",
       "  <tbody>\n",
       "    <tr>\n",
       "      <th>0</th>\n",
       "      <td>5163</td>\n",
       "      <td>57669</td>\n",
       "      <td>4.0</td>\n",
       "      <td>1518349992</td>\n",
       "      <td>Elizabeth Berrington|Rudy Blomme|Olivier Bonjo...</td>\n",
       "      <td>Martin McDonagh</td>\n",
       "      <td>107.0</td>\n",
       "      <td>15000000</td>\n",
       "      <td>dwarf|bruges|irish|hitman</td>\n",
       "    </tr>\n",
       "    <tr>\n",
       "      <th>1</th>\n",
       "      <td>87388</td>\n",
       "      <td>57669</td>\n",
       "      <td>3.5</td>\n",
       "      <td>1237455297</td>\n",
       "      <td>Elizabeth Berrington|Rudy Blomme|Olivier Bonjo...</td>\n",
       "      <td>Martin McDonagh</td>\n",
       "      <td>107.0</td>\n",
       "      <td>15000000</td>\n",
       "      <td>dwarf|bruges|irish|hitman</td>\n",
       "    </tr>\n",
       "  </tbody>\n",
       "</table>\n",
       "</div>"
      ],
      "text/plain": [
       "   userId  movieId  rating   timestamp  \\\n",
       "0    5163    57669     4.0  1518349992   \n",
       "1   87388    57669     3.5  1237455297   \n",
       "\n",
       "                                          title_cast         director  \\\n",
       "0  Elizabeth Berrington|Rudy Blomme|Olivier Bonjo...  Martin McDonagh   \n",
       "1  Elizabeth Berrington|Rudy Blomme|Olivier Bonjo...  Martin McDonagh   \n",
       "\n",
       "   runtime    budget              plot_keywords  \n",
       "0    107.0  15000000  dwarf|bruges|irish|hitman  \n",
       "1    107.0  15000000  dwarf|bruges|irish|hitman  "
      ]
     },
     "execution_count": 16,
     "metadata": {},
     "output_type": "execute_result"
    }
   ],
   "source": [
    "# Merge train data with IMDb data\n",
    "df_train_merged_imdb = df_train.merge(df_imdb, on=\"movieId\")\n",
    "df_train_merged_imdb.head(2)"
   ]
  },
  {
   "cell_type": "code",
   "execution_count": 17,
   "metadata": {},
   "outputs": [
    {
     "data": {
      "text/html": [
       "<div>\n",
       "<style scoped>\n",
       "    .dataframe tbody tr th:only-of-type {\n",
       "        vertical-align: middle;\n",
       "    }\n",
       "\n",
       "    .dataframe tbody tr th {\n",
       "        vertical-align: top;\n",
       "    }\n",
       "\n",
       "    .dataframe thead th {\n",
       "        text-align: right;\n",
       "    }\n",
       "</style>\n",
       "<table border=\"1\" class=\"dataframe\">\n",
       "  <thead>\n",
       "    <tr style=\"text-align: right;\">\n",
       "      <th></th>\n",
       "      <th>movieId</th>\n",
       "      <th>title</th>\n",
       "      <th>genres</th>\n",
       "      <th>year</th>\n",
       "      <th>title_cast</th>\n",
       "      <th>director</th>\n",
       "      <th>runtime</th>\n",
       "      <th>budget</th>\n",
       "      <th>plot_keywords</th>\n",
       "    </tr>\n",
       "  </thead>\n",
       "  <tbody>\n",
       "    <tr>\n",
       "      <th>0</th>\n",
       "      <td>1</td>\n",
       "      <td>Toy Story</td>\n",
       "      <td>Adventure|Animation|Children|Comedy|Fantasy</td>\n",
       "      <td>1995</td>\n",
       "      <td>Tom Hanks|Tim Allen|Don Rickles|Jim Varney|Wal...</td>\n",
       "      <td>John Lasseter</td>\n",
       "      <td>81.0</td>\n",
       "      <td>30000000</td>\n",
       "      <td>toy|rivalry|cowboy|cgi animation</td>\n",
       "    </tr>\n",
       "    <tr>\n",
       "      <th>1</th>\n",
       "      <td>2</td>\n",
       "      <td>Jumanji</td>\n",
       "      <td>Adventure|Children|Fantasy</td>\n",
       "      <td>1995</td>\n",
       "      <td>Robin Williams|Jonathan Hyde|Kirsten Dunst|Bra...</td>\n",
       "      <td>Jonathan Hensleigh</td>\n",
       "      <td>104.0</td>\n",
       "      <td>65000000</td>\n",
       "      <td>board game|adventurer|fight|game</td>\n",
       "    </tr>\n",
       "  </tbody>\n",
       "</table>\n",
       "</div>"
      ],
      "text/plain": [
       "   movieId      title                                       genres  year  \\\n",
       "0        1  Toy Story  Adventure|Animation|Children|Comedy|Fantasy  1995   \n",
       "1        2    Jumanji                   Adventure|Children|Fantasy  1995   \n",
       "\n",
       "                                          title_cast            director  \\\n",
       "0  Tom Hanks|Tim Allen|Don Rickles|Jim Varney|Wal...       John Lasseter   \n",
       "1  Robin Williams|Jonathan Hyde|Kirsten Dunst|Bra...  Jonathan Hensleigh   \n",
       "\n",
       "   runtime    budget                     plot_keywords  \n",
       "0     81.0  30000000  toy|rivalry|cowboy|cgi animation  \n",
       "1    104.0  65000000  board game|adventurer|fight|game  "
      ]
     },
     "execution_count": 17,
     "metadata": {},
     "output_type": "execute_result"
    }
   ],
   "source": [
    "# Merge movie data with IMDb data\n",
    "df_movie_merged_imdb = df_movie.merge(df_imdb, on=\"movieId\")\n",
    "df_movie_merged_imdb.head(2)"
   ]
  },
  {
   "cell_type": "code",
   "execution_count": 18,
   "metadata": {},
   "outputs": [
    {
     "data": {
      "text/html": [
       "<div>\n",
       "<style scoped>\n",
       "    .dataframe tbody tr th:only-of-type {\n",
       "        vertical-align: middle;\n",
       "    }\n",
       "\n",
       "    .dataframe tbody tr th {\n",
       "        vertical-align: top;\n",
       "    }\n",
       "\n",
       "    .dataframe thead th {\n",
       "        text-align: right;\n",
       "    }\n",
       "</style>\n",
       "<table border=\"1\" class=\"dataframe\">\n",
       "  <thead>\n",
       "    <tr style=\"text-align: right;\">\n",
       "      <th></th>\n",
       "      <th>userId</th>\n",
       "      <th>movieId</th>\n",
       "      <th>rating</th>\n",
       "      <th>timestamp</th>\n",
       "      <th>title</th>\n",
       "      <th>genres</th>\n",
       "      <th>year</th>\n",
       "      <th>title_cast</th>\n",
       "      <th>director</th>\n",
       "      <th>runtime</th>\n",
       "      <th>budget</th>\n",
       "      <th>plot_keywords</th>\n",
       "    </tr>\n",
       "  </thead>\n",
       "  <tbody>\n",
       "    <tr>\n",
       "      <th>0</th>\n",
       "      <td>5163</td>\n",
       "      <td>57669</td>\n",
       "      <td>4.0</td>\n",
       "      <td>1518349992</td>\n",
       "      <td>In Bruges</td>\n",
       "      <td>Comedy|Crime|Drama|Thriller</td>\n",
       "      <td>2008</td>\n",
       "      <td>Elizabeth Berrington|Rudy Blomme|Olivier Bonjo...</td>\n",
       "      <td>Martin McDonagh</td>\n",
       "      <td>107.0</td>\n",
       "      <td>15000000</td>\n",
       "      <td>dwarf|bruges|irish|hitman</td>\n",
       "    </tr>\n",
       "    <tr>\n",
       "      <th>1</th>\n",
       "      <td>87388</td>\n",
       "      <td>57669</td>\n",
       "      <td>3.5</td>\n",
       "      <td>1237455297</td>\n",
       "      <td>In Bruges</td>\n",
       "      <td>Comedy|Crime|Drama|Thriller</td>\n",
       "      <td>2008</td>\n",
       "      <td>Elizabeth Berrington|Rudy Blomme|Olivier Bonjo...</td>\n",
       "      <td>Martin McDonagh</td>\n",
       "      <td>107.0</td>\n",
       "      <td>15000000</td>\n",
       "      <td>dwarf|bruges|irish|hitman</td>\n",
       "    </tr>\n",
       "  </tbody>\n",
       "</table>\n",
       "</div>"
      ],
      "text/plain": [
       "   userId  movieId  rating   timestamp      title  \\\n",
       "0    5163    57669     4.0  1518349992  In Bruges   \n",
       "1   87388    57669     3.5  1237455297  In Bruges   \n",
       "\n",
       "                        genres  year  \\\n",
       "0  Comedy|Crime|Drama|Thriller  2008   \n",
       "1  Comedy|Crime|Drama|Thriller  2008   \n",
       "\n",
       "                                          title_cast         director  \\\n",
       "0  Elizabeth Berrington|Rudy Blomme|Olivier Bonjo...  Martin McDonagh   \n",
       "1  Elizabeth Berrington|Rudy Blomme|Olivier Bonjo...  Martin McDonagh   \n",
       "\n",
       "   runtime    budget              plot_keywords  \n",
       "0    107.0  15000000  dwarf|bruges|irish|hitman  \n",
       "1    107.0  15000000  dwarf|bruges|irish|hitman  "
      ]
     },
     "execution_count": 18,
     "metadata": {},
     "output_type": "execute_result"
    }
   ],
   "source": [
    "# Merge train data with movie data and then with IMDb data\n",
    "df_train_final_merge = df_train.merge(df_movie, on='movieId').merge(df_imdb, on=\"movieId\")\n",
    "df_train_final_merge.head(2)"
   ]
  },
  {
   "cell_type": "markdown",
   "metadata": {},
   "source": [
    "<a id=\"three\"></a>\n",
    "# 5. Exploratory Data Analysis (EDA)\n",
    "<a class=\"anchor\" id=\"1.1\"></a>\n",
    "<a href=#cont>Back to Table of Contents</a>"
   ]
  },
  {
   "cell_type": "markdown",
   "metadata": {},
   "source": [
    "In this section we'll be looking into the underlying patterns and characteristics of the movie dataset. By visualizing and summarizing the data, we can identify trends, distributions, and relationships between movie attributes, such as genre, ratings, and release year, which helps inform the design of the recommendation algorithm. EDA also allows us to detect outliers, missing values, and potential data quality issues, ensuring that the data used for movie recommendations is reliable and suitable for accurate predictions."
   ]
  },
  {
   "cell_type": "markdown",
   "metadata": {},
   "source": [
    "### 5.1 Investigating target variable (Ratings)"
   ]
  },
  {
   "cell_type": "code",
   "execution_count": 19,
   "metadata": {
    "execution": {
     "iopub.execute_input": "2023-07-21T06:24:59.301543Z",
     "iopub.status.busy": "2023-07-21T06:24:59.300396Z",
     "iopub.status.idle": "2023-07-21T06:24:59.759157Z",
     "shell.execute_reply": "2023-07-21T06:24:59.758039Z",
     "shell.execute_reply.started": "2023-07-21T06:24:59.301498Z"
    }
   },
   "outputs": [
    {
     "data": {
      "text/plain": [
       "count    6.979973e+06\n",
       "mean     3.484860e+00\n",
       "std      1.067980e+00\n",
       "min      5.000000e-01\n",
       "25%      3.000000e+00\n",
       "50%      3.500000e+00\n",
       "75%      4.000000e+00\n",
       "max      5.000000e+00\n",
       "Name: rating, dtype: float64"
      ]
     },
     "execution_count": 19,
     "metadata": {},
     "output_type": "execute_result"
    }
   ],
   "source": [
    "df_train_final_merge['rating'].describe() # Summary Statistics for Ratings"
   ]
  },
  {
   "cell_type": "markdown",
   "metadata": {},
   "source": [
    "##### Visualise the target variable"
   ]
  },
  {
   "cell_type": "code",
   "execution_count": 20,
   "metadata": {},
   "outputs": [
    {
     "name": "stdout",
     "output_type": "stream",
     "text": [
      "Average rating in dataset: 3.4848600417222246\n"
     ]
    },
    {
     "data": {
      "image/png": "[encoded data removed]",
      "text/plain": [
       "<Figure size 1000x500 with 1 Axes>"
      ]
     },
     "metadata": {},
     "output_type": "display_data"
    }
   ],
   "source": [
    "# Plotting histogram of ratings\n",
    "with sns.axes_style('white'):\n",
    "    g = sns.catplot(data=df_train_final_merge, x=\"rating\", y=None, aspect=2.0, kind='count')\n",
    "    g.set_ylabels(\"Total number of ratings\")\n",
    "print (f'Average rating in dataset: {np.mean(df_train_final_merge[\"rating\"])}')"
   ]
  },
  {
   "cell_type": "markdown",
   "metadata": {},
   "source": [
    "The rating distribution is left-skewed, indicating that most movies have received positive ratings. The highest frequency occurs around the 4.0 and 5.0 ratings, suggesting that a significant number of movies are well-received by users. However, there are relatively fewer movies with lower ratings, such as 1.0 to 3.0, indicating that the dataset is predominantly composed of positively reviewed films."
   ]
  },
  {
   "cell_type": "markdown",
   "metadata": {},
   "source": [
    "##### Check the number of unique values in the target variable"
   ]
  },
  {
   "cell_type": "code",
   "execution_count": 21,
   "metadata": {},
   "outputs": [
    {
     "data": {
      "text/plain": [
       "10"
      ]
     },
     "execution_count": 21,
     "metadata": {},
     "output_type": "execute_result"
    }
   ],
   "source": [
    "df_train_final_merge['rating'].nunique()"
   ]
  },
  {
   "cell_type": "markdown",
   "metadata": {},
   "source": [
    "##### View the unique values"
   ]
  },
  {
   "cell_type": "code",
   "execution_count": 22,
   "metadata": {},
   "outputs": [
    {
     "data": {
      "text/plain": [
       "array([4. , 3.5, 4.5, 0.5, 5. , 3. , 2. , 1. , 1.5, 2.5])"
      ]
     },
     "execution_count": 22,
     "metadata": {},
     "output_type": "execute_result"
    }
   ],
   "source": [
    "df_train_final_merge['rating'].unique()"
   ]
  },
  {
   "cell_type": "markdown",
   "metadata": {},
   "source": [
    "##### Count the occurrences of each unique value in the 'rating' column "
   ]
  },
  {
   "cell_type": "code",
   "execution_count": 23,
   "metadata": {
    "execution": {
     "iopub.execute_input": "2023-07-21T06:25:41.444888Z",
     "iopub.status.busy": "2023-07-21T06:25:41.444466Z",
     "iopub.status.idle": "2023-07-21T06:25:41.608813Z",
     "shell.execute_reply": "2023-07-21T06:25:41.607914Z",
     "shell.execute_reply.started": "2023-07-21T06:25:41.444856Z"
    }
   },
   "outputs": [
    {
     "data": {
      "text/plain": [
       "5.0    1445230\n",
       "4.5     880516\n",
       "4.0    2652977\n",
       "3.5    1270642\n",
       "3.0    1959759\n",
       "2.5     505578\n",
       "2.0     656821\n",
       "1.5     159731\n",
       "1.0     311213\n",
       "0.5     157571\n",
       "Name: rating, dtype: int64"
      ]
     },
     "execution_count": 23,
     "metadata": {},
     "output_type": "execute_result"
    }
   ],
   "source": [
    "data = df_train_merged_movie['rating'].value_counts().sort_index(ascending=False)\n",
    "data"
   ]
  },
  {
   "cell_type": "markdown",
   "metadata": {},
   "source": [
    "##### Renaming columns in the DataFrame "
   ]
  },
  {
   "cell_type": "markdown",
   "metadata": {},
   "source": [
    "It is essential to create a consolidated DataFrame that combines movie ratings and the number of ratings each movie has received. It helps to better understand the relationship between movie ratings and their popularity in the dataset, enabling us to make data-driven decisions and recommendations based on both user ratings and the frequency of ratings for each movie."
   ]
  },
  {
   "cell_type": "code",
   "execution_count": 24,
   "metadata": {
    "execution": {
     "iopub.execute_input": "2023-07-21T06:26:45.904865Z",
     "iopub.status.busy": "2023-07-21T06:26:45.904063Z",
     "iopub.status.idle": "2023-07-21T06:26:57.977004Z",
     "shell.execute_reply": "2023-07-21T06:26:57.975883Z",
     "shell.execute_reply.started": "2023-07-21T06:26:45.904814Z"
    },
    "scrolled": true
   },
   "outputs": [
    {
     "data": {
      "text/html": [
       "<div>\n",
       "<style scoped>\n",
       "    .dataframe tbody tr th:only-of-type {\n",
       "        vertical-align: middle;\n",
       "    }\n",
       "\n",
       "    .dataframe tbody tr th {\n",
       "        vertical-align: top;\n",
       "    }\n",
       "\n",
       "    .dataframe thead th {\n",
       "        text-align: right;\n",
       "    }\n",
       "</style>\n",
       "<table border=\"1\" class=\"dataframe\">\n",
       "  <thead>\n",
       "    <tr style=\"text-align: right;\">\n",
       "      <th></th>\n",
       "      <th>userId</th>\n",
       "      <th>movieId</th>\n",
       "      <th>rating</th>\n",
       "      <th>timestamp</th>\n",
       "      <th>title</th>\n",
       "      <th>genres</th>\n",
       "      <th>year</th>\n",
       "      <th>title_cast</th>\n",
       "      <th>director</th>\n",
       "      <th>runtime</th>\n",
       "      <th>budget</th>\n",
       "      <th>plot_keywords</th>\n",
       "      <th>Number_of_Ratings</th>\n",
       "    </tr>\n",
       "  </thead>\n",
       "  <tbody>\n",
       "    <tr>\n",
       "      <th>0</th>\n",
       "      <td>5163</td>\n",
       "      <td>57669</td>\n",
       "      <td>4.0</td>\n",
       "      <td>1518349992</td>\n",
       "      <td>In Bruges</td>\n",
       "      <td>Comedy|Crime|Drama|Thriller</td>\n",
       "      <td>2008</td>\n",
       "      <td>Elizabeth Berrington|Rudy Blomme|Olivier Bonjo...</td>\n",
       "      <td>Martin McDonagh</td>\n",
       "      <td>107.0</td>\n",
       "      <td>15000000</td>\n",
       "      <td>dwarf|bruges|irish|hitman</td>\n",
       "      <td>4253</td>\n",
       "    </tr>\n",
       "    <tr>\n",
       "      <th>1</th>\n",
       "      <td>87388</td>\n",
       "      <td>57669</td>\n",
       "      <td>3.5</td>\n",
       "      <td>1237455297</td>\n",
       "      <td>In Bruges</td>\n",
       "      <td>Comedy|Crime|Drama|Thriller</td>\n",
       "      <td>2008</td>\n",
       "      <td>Elizabeth Berrington|Rudy Blomme|Olivier Bonjo...</td>\n",
       "      <td>Martin McDonagh</td>\n",
       "      <td>107.0</td>\n",
       "      <td>15000000</td>\n",
       "      <td>dwarf|bruges|irish|hitman</td>\n",
       "      <td>4253</td>\n",
       "    </tr>\n",
       "  </tbody>\n",
       "</table>\n",
       "</div>"
      ],
      "text/plain": [
       "   userId  movieId  rating   timestamp      title  \\\n",
       "0    5163    57669     4.0  1518349992  In Bruges   \n",
       "1   87388    57669     3.5  1237455297  In Bruges   \n",
       "\n",
       "                        genres  year  \\\n",
       "0  Comedy|Crime|Drama|Thriller  2008   \n",
       "1  Comedy|Crime|Drama|Thriller  2008   \n",
       "\n",
       "                                          title_cast         director  \\\n",
       "0  Elizabeth Berrington|Rudy Blomme|Olivier Bonjo...  Martin McDonagh   \n",
       "1  Elizabeth Berrington|Rudy Blomme|Olivier Bonjo...  Martin McDonagh   \n",
       "\n",
       "   runtime    budget              plot_keywords  Number_of_Ratings  \n",
       "0    107.0  15000000  dwarf|bruges|irish|hitman               4253  \n",
       "1    107.0  15000000  dwarf|bruges|irish|hitman               4253  "
      ]
     },
     "execution_count": 24,
     "metadata": {},
     "output_type": "execute_result"
    }
   ],
   "source": [
    "# Rename columns in df_train_final_merge\n",
    "df_train_final_merge.rename(columns={'rating_x': 'rating', 'rating_y': 'Number_of_Ratings'}, inplace=True)\n",
    "\n",
    "# Create dataframe to count the number of ratings for each movieId\n",
    "n_ratings = pd.DataFrame(df_train_final_merge.groupby('movieId').count()['rating']).reset_index()\n",
    "\n",
    "# Merge num_ratings with df_train_final_merge\n",
    "df_train_final_merge = pd.merge(left=df_train_final_merge, right=n_ratings, on='movieId')\n",
    "\n",
    "# rename columns\n",
    "df_train_final_merge.rename(columns={'rating_x': 'rating', 'rating_y': 'Number_of_Ratings'}, inplace=True)\n",
    "\n",
    "df_train_final_merge.head(2)"
   ]
  },
  {
   "cell_type": "code",
   "execution_count": 25,
   "metadata": {},
   "outputs": [
    {
     "data": {
      "text/html": [
       "<div>\n",
       "<style scoped>\n",
       "    .dataframe tbody tr th:only-of-type {\n",
       "        vertical-align: middle;\n",
       "    }\n",
       "\n",
       "    .dataframe tbody tr th {\n",
       "        vertical-align: top;\n",
       "    }\n",
       "\n",
       "    .dataframe thead th {\n",
       "        text-align: right;\n",
       "    }\n",
       "</style>\n",
       "<table border=\"1\" class=\"dataframe\">\n",
       "  <thead>\n",
       "    <tr style=\"text-align: right;\">\n",
       "      <th></th>\n",
       "      <th>userId</th>\n",
       "      <th>movieId</th>\n",
       "      <th>rating</th>\n",
       "      <th>timestamp</th>\n",
       "      <th>title</th>\n",
       "      <th>genres</th>\n",
       "      <th>year</th>\n",
       "      <th>title_cast</th>\n",
       "      <th>director</th>\n",
       "      <th>runtime</th>\n",
       "      <th>budget</th>\n",
       "      <th>plot_keywords</th>\n",
       "      <th>Number_of_Ratings</th>\n",
       "    </tr>\n",
       "  </thead>\n",
       "  <tbody>\n",
       "    <tr>\n",
       "      <th>0</th>\n",
       "      <td>5163</td>\n",
       "      <td>57669</td>\n",
       "      <td>4.0</td>\n",
       "      <td>1518349992</td>\n",
       "      <td>In Bruges</td>\n",
       "      <td>Comedy|Crime|Drama|Thriller</td>\n",
       "      <td>2008</td>\n",
       "      <td>Elizabeth Berrington|Rudy Blomme|Olivier Bonjo...</td>\n",
       "      <td>Martin McDonagh</td>\n",
       "      <td>107.0</td>\n",
       "      <td>15000000</td>\n",
       "      <td>dwarf|bruges|irish|hitman</td>\n",
       "      <td>4253</td>\n",
       "    </tr>\n",
       "    <tr>\n",
       "      <th>4253</th>\n",
       "      <td>106343</td>\n",
       "      <td>5</td>\n",
       "      <td>4.5</td>\n",
       "      <td>1206238739</td>\n",
       "      <td>Father of the Bride Part II</td>\n",
       "      <td>Comedy</td>\n",
       "      <td>1995</td>\n",
       "      <td>Steve Martin|Diane Keaton|Martin Short|Kimberl...</td>\n",
       "      <td>Albert Hackett</td>\n",
       "      <td>106.0</td>\n",
       "      <td>30000000</td>\n",
       "      <td>fatherhood|doberman|dog|mansion</td>\n",
       "      <td>4648</td>\n",
       "    </tr>\n",
       "  </tbody>\n",
       "</table>\n",
       "</div>"
      ],
      "text/plain": [
       "      userId  movieId  rating   timestamp                        title  \\\n",
       "0       5163    57669     4.0  1518349992                    In Bruges   \n",
       "4253  106343        5     4.5  1206238739  Father of the Bride Part II   \n",
       "\n",
       "                           genres  year  \\\n",
       "0     Comedy|Crime|Drama|Thriller  2008   \n",
       "4253                       Comedy  1995   \n",
       "\n",
       "                                             title_cast         director  \\\n",
       "0     Elizabeth Berrington|Rudy Blomme|Olivier Bonjo...  Martin McDonagh   \n",
       "4253  Steve Martin|Diane Keaton|Martin Short|Kimberl...   Albert Hackett   \n",
       "\n",
       "      runtime    budget                    plot_keywords  Number_of_Ratings  \n",
       "0       107.0  15000000        dwarf|bruges|irish|hitman               4253  \n",
       "4253    106.0  30000000  fatherhood|doberman|dog|mansion               4648  "
      ]
     },
     "execution_count": 25,
     "metadata": {},
     "output_type": "execute_result"
    }
   ],
   "source": [
    "#drop duplicates on dataframe\n",
    "data_1= df_train_final_merge.drop_duplicates('movieId')\n",
    "\n",
    "data_1.head(2)"
   ]
  },
  {
   "cell_type": "markdown",
   "metadata": {},
   "source": [
    "### 5.2 Investigating Users"
   ]
  },
  {
   "cell_type": "code",
   "execution_count": 26,
   "metadata": {},
   "outputs": [
    {
     "data": {
      "image/png": "[encoded data removed]",
      "text/plain": [
       "<Figure size 640x480 with 1 Axes>"
      ]
     },
     "metadata": {},
     "output_type": "display_data"
    }
   ],
   "source": [
    "# User Distribution\n",
    "user_counts = df_train_final_merge['userId'].value_counts().sort_index()\n",
    "\n",
    "# Plotting histogram of user distribution\n",
    "plt.hist(user_counts, bins=50, edgecolor='black')\n",
    "plt.xlabel('Number of Ratings per User')\n",
    "plt.ylabel('Count')\n",
    "plt.title('Distribution of Ratings per User')\n",
    "plt.show()"
   ]
  },
  {
   "cell_type": "markdown",
   "metadata": {},
   "source": [
    "### 5.3 Investigating genre"
   ]
  },
  {
   "cell_type": "code",
   "execution_count": 27,
   "metadata": {
    "execution": {
     "iopub.execute_input": "2023-07-21T06:31:31.572631Z",
     "iopub.status.busy": "2023-07-21T06:31:31.572198Z",
     "iopub.status.idle": "2023-07-21T06:31:32.412777Z",
     "shell.execute_reply": "2023-07-21T06:31:32.411648Z",
     "shell.execute_reply.started": "2023-07-21T06:31:31.572595Z"
    }
   },
   "outputs": [
    {
     "data": {
      "text/plain": [
       "[['Drama', 25606],\n",
       " ['Comedy', 16870],\n",
       " ['Thriller', 8654],\n",
       " ['Romance', 7719],\n",
       " ['Action', 7348],\n",
       " ['Horror', 5989],\n",
       " ['Documentary', 5605],\n",
       " ['Crime', 5319],\n",
       " ['(no genres listed)', 5062],\n",
       " ['Adventure', 4145],\n",
       " ['Sci-Fi', 3595],\n",
       " ['Children', 2935],\n",
       " ['Animation', 2929],\n",
       " ['Mystery', 2925],\n",
       " ['Fantasy', 2731]]"
      ]
     },
     "execution_count": 27,
     "metadata": {},
     "output_type": "execute_result"
    }
   ],
   "source": [
    "# Make a count of the genre keywords\n",
    "genre_labels = set()\n",
    "for s in df_movie['genres'].str.split('|').values:\n",
    "    genre_labels = genre_labels.union(set(s))\n",
    "\n",
    "# Function that counts the number of times each of the genre keywords appear\n",
    "def count_word(dataset, ref_col, census):\n",
    "    keyword_count = dict()\n",
    "    for s in census: \n",
    "        keyword_count[s] = 0\n",
    "    for census_keywords in dataset[ref_col].str.split('|'):        \n",
    "        if type(census_keywords) == float and pd.isnull(census_keywords): \n",
    "            continue        \n",
    "        for s in [s for s in census_keywords if s in census]: \n",
    "            if pd.notnull(s): \n",
    "                keyword_count[s] += 1\n",
    "    \n",
    "    # convert the dictionary in a list to sort the keywords by frequency\n",
    "    keyword_occurences = []\n",
    "    for k,v in keyword_count.items():\n",
    "        keyword_occurences.append([k,v])\n",
    "    keyword_occurences.sort(key = lambda x:x[1], reverse = True)\n",
    "    return keyword_occurences, keyword_count\n",
    "\n",
    "# Calling this function gives access to a list of genre keywords which are sorted by decreasing frequency\n",
    "occurences, dum = count_word(df_movie, 'genres', genre_labels)\n",
    "occurences[:15]"
   ]
  },
  {
   "cell_type": "markdown",
   "metadata": {},
   "source": [
    "The analysis of genre keywords shows the top 15 most common genres in the dataset. Drama and Comedy are the most prevalent genres, followed by Thriller, Romance, and Action. It suggests that the dataset contains a diverse range of movies, with a focus on drama and comedy genres, providing valuable insights for content-based and genre-based recommendations."
   ]
  },
  {
   "cell_type": "code",
   "execution_count": 28,
   "metadata": {
    "execution": {
     "iopub.execute_input": "2023-07-21T06:33:38.039605Z",
     "iopub.status.busy": "2023-07-21T06:33:38.039153Z",
     "iopub.status.idle": "2023-07-21T06:33:38.079501Z",
     "shell.execute_reply": "2023-07-21T06:33:38.078428Z",
     "shell.execute_reply.started": "2023-07-21T06:33:38.039569Z"
    }
   },
   "outputs": [
    {
     "data": {
      "text/html": [
       "<div>\n",
       "<style scoped>\n",
       "    .dataframe tbody tr th:only-of-type {\n",
       "        vertical-align: middle;\n",
       "    }\n",
       "\n",
       "    .dataframe tbody tr th {\n",
       "        vertical-align: top;\n",
       "    }\n",
       "\n",
       "    .dataframe thead th {\n",
       "        text-align: right;\n",
       "    }\n",
       "</style>\n",
       "<table border=\"1\" class=\"dataframe\">\n",
       "  <thead>\n",
       "    <tr style=\"text-align: right;\">\n",
       "      <th></th>\n",
       "      <th>movieId</th>\n",
       "      <th>title_cast</th>\n",
       "      <th>director</th>\n",
       "      <th>plot_keywords</th>\n",
       "      <th>genres</th>\n",
       "      <th>title</th>\n",
       "    </tr>\n",
       "  </thead>\n",
       "  <tbody>\n",
       "    <tr>\n",
       "      <th>0</th>\n",
       "      <td>1</td>\n",
       "      <td>Tom Hanks|Tim Allen|Don Rickles|Jim Varney|Wal...</td>\n",
       "      <td>John Lasseter</td>\n",
       "      <td>toy|rivalry|cowboy|cgi animation</td>\n",
       "      <td>Adventure|Animation|Children|Comedy|Fantasy</td>\n",
       "      <td>Toy Story</td>\n",
       "    </tr>\n",
       "    <tr>\n",
       "      <th>1</th>\n",
       "      <td>2</td>\n",
       "      <td>Robin Williams|Jonathan Hyde|Kirsten Dunst|Bra...</td>\n",
       "      <td>Jonathan Hensleigh</td>\n",
       "      <td>board game|adventurer|fight|game</td>\n",
       "      <td>Adventure|Children|Fantasy</td>\n",
       "      <td>Jumanji</td>\n",
       "    </tr>\n",
       "  </tbody>\n",
       "</table>\n",
       "</div>"
      ],
      "text/plain": [
       "   movieId                                         title_cast  \\\n",
       "0        1  Tom Hanks|Tim Allen|Don Rickles|Jim Varney|Wal...   \n",
       "1        2  Robin Williams|Jonathan Hyde|Kirsten Dunst|Bra...   \n",
       "\n",
       "             director                     plot_keywords  \\\n",
       "0       John Lasseter  toy|rivalry|cowboy|cgi animation   \n",
       "1  Jonathan Hensleigh  board game|adventurer|fight|game   \n",
       "\n",
       "                                        genres      title  \n",
       "0  Adventure|Animation|Children|Comedy|Fantasy  Toy Story  \n",
       "1                   Adventure|Children|Fantasy    Jumanji  "
      ]
     },
     "execution_count": 28,
     "metadata": {},
     "output_type": "execute_result"
    }
   ],
   "source": [
    "df = df_imdb[['movieId','title_cast','director', 'plot_keywords']]\n",
    "df = df.merge(df_movie[['movieId', 'genres', 'title']], on='movieId', how='inner')\n",
    "df.head(2)"
   ]
  },
  {
   "cell_type": "code",
   "execution_count": 29,
   "metadata": {
    "execution": {
     "iopub.execute_input": "2023-07-21T06:34:27.450755Z",
     "iopub.status.busy": "2023-07-21T06:34:27.450376Z",
     "iopub.status.idle": "2023-07-21T06:34:27.815792Z",
     "shell.execute_reply": "2023-07-21T06:34:27.814865Z",
     "shell.execute_reply.started": "2023-07-21T06:34:27.450726Z"
    }
   },
   "outputs": [
    {
     "data": {
      "text/html": [
       "<div>\n",
       "<style scoped>\n",
       "    .dataframe tbody tr th:only-of-type {\n",
       "        vertical-align: middle;\n",
       "    }\n",
       "\n",
       "    .dataframe tbody tr th {\n",
       "        vertical-align: top;\n",
       "    }\n",
       "\n",
       "    .dataframe thead th {\n",
       "        text-align: right;\n",
       "    }\n",
       "</style>\n",
       "<table border=\"1\" class=\"dataframe\">\n",
       "  <thead>\n",
       "    <tr style=\"text-align: right;\">\n",
       "      <th></th>\n",
       "      <th>movieId</th>\n",
       "      <th>title_cast</th>\n",
       "      <th>director</th>\n",
       "      <th>plot_keywords</th>\n",
       "      <th>genres</th>\n",
       "      <th>title</th>\n",
       "    </tr>\n",
       "  </thead>\n",
       "  <tbody>\n",
       "    <tr>\n",
       "      <th>0</th>\n",
       "      <td>1</td>\n",
       "      <td>[tomhanks, timallen, donrickles]</td>\n",
       "      <td>johnlasseter</td>\n",
       "      <td>toy rivalry cowboy cgi animation</td>\n",
       "      <td>adventure animation children comedy fantasy</td>\n",
       "      <td>Toy Story</td>\n",
       "    </tr>\n",
       "    <tr>\n",
       "      <th>1</th>\n",
       "      <td>2</td>\n",
       "      <td>[robinwilliams, jonathanhyde, kirstendunst]</td>\n",
       "      <td>jonathanhensleigh</td>\n",
       "      <td>board game adventurer fight game</td>\n",
       "      <td>adventure children fantasy</td>\n",
       "      <td>Jumanji</td>\n",
       "    </tr>\n",
       "  </tbody>\n",
       "</table>\n",
       "</div>"
      ],
      "text/plain": [
       "   movieId                                   title_cast           director  \\\n",
       "0        1             [tomhanks, timallen, donrickles]       johnlasseter   \n",
       "1        2  [robinwilliams, jonathanhyde, kirstendunst]  jonathanhensleigh   \n",
       "\n",
       "                      plot_keywords  \\\n",
       "0  toy rivalry cowboy cgi animation   \n",
       "1  board game adventurer fight game   \n",
       "\n",
       "                                        genres      title  \n",
       "0  adventure animation children comedy fantasy  Toy Story  \n",
       "1                   adventure children fantasy    Jumanji  "
      ]
     },
     "execution_count": 29,
     "metadata": {},
     "output_type": "execute_result"
    }
   ],
   "source": [
    "# Convert data types to strings for string handling\n",
    "df['title_cast'] = df.title_cast.astype(str)\n",
    "df['plot_keywords'] = df.plot_keywords.astype(str)\n",
    "df['genres'] = df.genres.astype(str)\n",
    "df['director'] = df.director.astype(str)\n",
    "\n",
    "# Removing spaces between names\n",
    "df['director'] = df['director'].apply(lambda x: \"\".join(x.lower() for x in x.split()))\n",
    "df['title_cast'] = df['title_cast'].apply(lambda x: \"\".join(x.lower() for x in x.split()))\n",
    "\n",
    "# Discarding the pipes between the actors' full names and getting only the first three names\n",
    "df['title_cast'] = df['title_cast'].map(lambda x: x.split('|')[:3])\n",
    "\n",
    "# Discarding the pipes between the plot keywords' and getting only the first five words\n",
    "df['plot_keywords'] = df['plot_keywords'].map(lambda x: x.split('|')[:5])\n",
    "df['plot_keywords'] = df['plot_keywords'].apply(lambda x: \" \".join(x))\n",
    "\n",
    "# Discarding the pipes between the genres \n",
    "df['genres'] = df['genres'].map(lambda x: x.lower().split('|'))\n",
    "df['genres'] = df['genres'].apply(lambda x: \" \".join(x))\n",
    "\n",
    "df.head(2)"
   ]
  },
  {
   "cell_type": "markdown",
   "metadata": {},
   "source": [
    "### 5.4 Investigating Movies"
   ]
  },
  {
   "cell_type": "markdown",
   "metadata": {},
   "source": [
    "##### Number of movies released per year"
   ]
  },
  {
   "cell_type": "code",
   "execution_count": 30,
   "metadata": {},
   "outputs": [
    {
     "data": {
      "image/png": "[encoded data removed]",
      "text/plain": [
       "<Figure size 1200x1000 with 1 Axes>"
      ]
     },
     "metadata": {},
     "output_type": "display_data"
    }
   ],
   "source": [
    "plt.figure(figsize=(12,10))\n",
    "sns.set(style=\"darkgrid\")\n",
    "ax = sns.countplot(y=\"year\", data= df_movie, palette=\"Set2\", order=df_movie['year'].value_counts().index[0:15])"
   ]
  },
  {
   "cell_type": "markdown",
   "metadata": {},
   "source": [
    "The plot indicates that the movie production industry has been consistently growing over the years, with the highest number of movies released in the year 2015. This trend suggests a positive growth in the movie industry during the period from 2004 to 2015, possibly due to increasing interest and investment in the entertainment sector."
   ]
  },
  {
   "cell_type": "markdown",
   "metadata": {},
   "source": [
    "##### Most-Rated Movies"
   ]
  },
  {
   "cell_type": "code",
   "execution_count": 31,
   "metadata": {},
   "outputs": [
    {
     "data": {
      "text/html": [
       "<div>\n",
       "<style scoped>\n",
       "    .dataframe tbody tr th:only-of-type {\n",
       "        vertical-align: middle;\n",
       "    }\n",
       "\n",
       "    .dataframe tbody tr th {\n",
       "        vertical-align: top;\n",
       "    }\n",
       "\n",
       "    .dataframe thead th {\n",
       "        text-align: right;\n",
       "    }\n",
       "</style>\n",
       "<table border=\"1\" class=\"dataframe\">\n",
       "  <thead>\n",
       "    <tr style=\"text-align: right;\">\n",
       "      <th></th>\n",
       "      <th>movieId</th>\n",
       "      <th>title</th>\n",
       "      <th>genres</th>\n",
       "    </tr>\n",
       "  </thead>\n",
       "  <tbody>\n",
       "    <tr>\n",
       "      <th>0</th>\n",
       "      <td>1</td>\n",
       "      <td>Toy Story</td>\n",
       "      <td>Adventure|Animation|Children|Comedy|Fantasy</td>\n",
       "    </tr>\n",
       "    <tr>\n",
       "      <th>1</th>\n",
       "      <td>2</td>\n",
       "      <td>Jumanji</td>\n",
       "      <td>Adventure|Children|Fantasy</td>\n",
       "    </tr>\n",
       "    <tr>\n",
       "      <th>2</th>\n",
       "      <td>3</td>\n",
       "      <td>Grumpier Old Men</td>\n",
       "      <td>Comedy|Romance</td>\n",
       "    </tr>\n",
       "    <tr>\n",
       "      <th>3</th>\n",
       "      <td>4</td>\n",
       "      <td>Waiting to Exhale</td>\n",
       "      <td>Comedy|Drama|Romance</td>\n",
       "    </tr>\n",
       "    <tr>\n",
       "      <th>4</th>\n",
       "      <td>5</td>\n",
       "      <td>Father of the Bride Part II</td>\n",
       "      <td>Comedy</td>\n",
       "    </tr>\n",
       "    <tr>\n",
       "      <th>5</th>\n",
       "      <td>6</td>\n",
       "      <td>Heat</td>\n",
       "      <td>Action|Crime|Thriller</td>\n",
       "    </tr>\n",
       "    <tr>\n",
       "      <th>6</th>\n",
       "      <td>7</td>\n",
       "      <td>Sabrina</td>\n",
       "      <td>Comedy|Romance</td>\n",
       "    </tr>\n",
       "    <tr>\n",
       "      <th>7</th>\n",
       "      <td>8</td>\n",
       "      <td>Tom and Huck</td>\n",
       "      <td>Adventure|Children</td>\n",
       "    </tr>\n",
       "    <tr>\n",
       "      <th>8</th>\n",
       "      <td>9</td>\n",
       "      <td>Sudden Death</td>\n",
       "      <td>Action</td>\n",
       "    </tr>\n",
       "    <tr>\n",
       "      <th>9</th>\n",
       "      <td>10</td>\n",
       "      <td>GoldenEye</td>\n",
       "      <td>Action|Adventure|Thriller</td>\n",
       "    </tr>\n",
       "  </tbody>\n",
       "</table>\n",
       "</div>"
      ],
      "text/plain": [
       "   movieId                        title  \\\n",
       "0        1                    Toy Story   \n",
       "1        2                      Jumanji   \n",
       "2        3             Grumpier Old Men   \n",
       "3        4            Waiting to Exhale   \n",
       "4        5  Father of the Bride Part II   \n",
       "5        6                         Heat   \n",
       "6        7                      Sabrina   \n",
       "7        8                 Tom and Huck   \n",
       "8        9                 Sudden Death   \n",
       "9       10                    GoldenEye   \n",
       "\n",
       "                                        genres  \n",
       "0  Adventure|Animation|Children|Comedy|Fantasy  \n",
       "1                   Adventure|Children|Fantasy  \n",
       "2                               Comedy|Romance  \n",
       "3                         Comedy|Drama|Romance  \n",
       "4                                       Comedy  \n",
       "5                        Action|Crime|Thriller  \n",
       "6                               Comedy|Romance  \n",
       "7                           Adventure|Children  \n",
       "8                                       Action  \n",
       "9                    Action|Adventure|Thriller  "
      ]
     },
     "execution_count": 31,
     "metadata": {},
     "output_type": "execute_result"
    }
   ],
   "source": [
    "# Distribution of Movies\n",
    "movie_counts = df_movie['movieId'].value_counts().sort_index()\n",
    "\n",
    "most_rated_movies = movie_counts.nlargest(10)  # Get top 10 most-rated movies\n",
    "most_rated_movies_data = df_movie[df_movie['movieId'].isin(most_rated_movies.index)]\n",
    "most_rated_movies_data[['movieId', 'title', 'genres']]"
   ]
  },
  {
   "cell_type": "markdown",
   "metadata": {},
   "source": [
    "Based on the output, the top 10 most-rated movies consist of diverse genres, including Adventure, Animation, Children, Comedy, Fantasy, Romance, Drama, Crime, and Thriller. These popular movies cater to a broad audience, showcasing the appeal of a wide range of genres among users."
   ]
  },
  {
   "cell_type": "markdown",
   "metadata": {},
   "source": [
    "##### Visualise the ditribution of movies by genre"
   ]
  },
  {
   "cell_type": "code",
   "execution_count": 32,
   "metadata": {},
   "outputs": [
    {
     "data": {
      "image/png": "[encoded data removed]",
      "text/plain": [
       "<Figure size 640x480 with 1 Axes>"
      ]
     },
     "metadata": {},
     "output_type": "display_data"
    }
   ],
   "source": [
    "# Movie Genres Distribution\n",
    "df_movie['genres'] = df_movie['genres'].str.split('|')\n",
    "genre_counts = df_movie['genres'].explode().value_counts()\n",
    "\n",
    "# Plotting bar plot of genre distribution\n",
    "plt.bar(genre_counts.index, genre_counts.values)\n",
    "plt.xlabel('Genres')\n",
    "plt.ylabel('Count')\n",
    "plt.title('Distribution of Movie Genres')\n",
    "plt.xticks(rotation=90)\n",
    "plt.show()"
   ]
  },
  {
   "cell_type": "markdown",
   "metadata": {},
   "source": [
    "From the bar plot, we can observe that the top five movie genres, ranked from highest to lowest, are Drama, Comedy, Thriller, Romance, and Action. Additionally, the genres Horror, Documentary, and Crime follow closely, showing their popularity among the movie dataset. "
   ]
  },
  {
   "cell_type": "markdown",
   "metadata": {},
   "source": [
    "### 5.5 Correlation of Features"
   ]
  },
  {
   "cell_type": "markdown",
   "metadata": {},
   "source": [
    "This function gives a correlation map\n",
    "    using all the features from merged data."
   ]
  },
  {
   "cell_type": "code",
   "execution_count": 33,
   "metadata": {
    "execution": {
     "iopub.execute_input": "2023-07-21T06:51:41.821384Z",
     "iopub.status.busy": "2023-07-21T06:51:41.821003Z",
     "iopub.status.idle": "2023-07-21T06:51:41.827533Z",
     "shell.execute_reply": "2023-07-21T06:51:41.826782Z",
     "shell.execute_reply.started": "2023-07-21T06:51:41.821354Z"
    }
   },
   "outputs": [],
   "source": [
    "def correlation_map( df ):\n",
    "    corr = df.corr()\n",
    "    _ , ax = plt.subplots( figsize =( 12 , 10 ) )\n",
    "    cmap = sns.diverging_palette( 240 , 10 , as_cmap = True )\n",
    "    _ = sns.heatmap(corr,cmap = cmap,square=True, cbar_kws={ 'shrink' : .9 }, ax=ax, annot = True, annot_kws = { 'fontsize' : 12 })"
   ]
  },
  {
   "cell_type": "code",
   "execution_count": 34,
   "metadata": {
    "execution": {
     "iopub.execute_input": "2023-07-21T06:52:20.716021Z",
     "iopub.status.busy": "2023-07-21T06:52:20.715644Z",
     "iopub.status.idle": "2023-07-21T06:52:21.354114Z",
     "shell.execute_reply": "2023-07-21T06:52:21.352969Z",
     "shell.execute_reply.started": "2023-07-21T06:52:20.715993Z"
    }
   },
   "outputs": [
    {
     "data": {
      "image/png": "[encoded data removed]",
      "text/plain": [
       "<Figure size 1200x1000 with 2 Axes>"
      ]
     },
     "metadata": {},
     "output_type": "display_data"
    }
   ],
   "source": [
    "correlation_map(data_1[['userId','movieId','rating', 'timestamp', 'budget','runtime', 'Number_of_Ratings']])"
   ]
  },
  {
   "cell_type": "markdown",
   "metadata": {},
   "source": [
    "The correlation map shows that there is no significant positive correlation among the features, except for a strong correlation between the \"movieId\" and \"timestamp.\" This correlation suggests that movies with different lengths have different timestamps, indicating the possibility of movies ending at various times."
   ]
  },
  {
   "cell_type": "markdown",
   "metadata": {},
   "source": [
    "### 5.6 Detecting Outliers"
   ]
  },
  {
   "cell_type": "code",
   "execution_count": 35,
   "metadata": {
    "scrolled": false
   },
   "outputs": [
    {
     "data": {
      "image/png": "[encoded data removed]",
      "text/plain": [
       "<Figure size 800x600 with 1 Axes>"
      ]
     },
     "metadata": {},
     "output_type": "display_data"
    }
   ],
   "source": [
    "# Box plot for rating feature\n",
    "plt.figure(figsize=(8, 6))\n",
    "sns.boxplot(x=df_train_final_merge['rating'])\n",
    "plt.xlabel('Rating')\n",
    "plt.title('Box Plot - Rating')\n",
    "plt.show()"
   ]
  },
  {
   "cell_type": "markdown",
   "metadata": {},
   "source": [
    "We found a couple of outliers in the rating data, therefore below we are going to remove them"
   ]
  },
  {
   "cell_type": "markdown",
   "metadata": {},
   "source": [
    "##### Remove outliers"
   ]
  },
  {
   "cell_type": "code",
   "execution_count": 36,
   "metadata": {
    "scrolled": false
   },
   "outputs": [
    {
     "data": {
      "image/png": "[encoded data removed]",
      "text/plain": [
       "<Figure size 800x600 with 1 Axes>"
      ]
     },
     "metadata": {},
     "output_type": "display_data"
    }
   ],
   "source": [
    "def remove_outliers(df, column_name):\n",
    "    \"\"\"\n",
    "    Removes outliers from a given column in the DataFrame using the Interquartile Range (IQR) method.\n",
    "    \n",
    "    Parameters:\n",
    "        df (DataFrame): The DataFrame containing the column to be processed.\n",
    "        column_name (str): The name of the column for which outliers need to be removed.\n",
    "        \n",
    "    Returns:\n",
    "        DataFrame: A new DataFrame with outliers removed from the specified column.\n",
    "    \"\"\"\n",
    "    Q1 = df[column_name].quantile(0.25)\n",
    "    Q3 = df[column_name].quantile(0.75)\n",
    "    IQR = Q3 - Q1\n",
    "    \n",
    "    # Filter out the outliers\n",
    "    df_filtered = df[(df[column_name] >= Q1 - 1.5 * IQR) & (df[column_name] <= Q3 + 1.5 * IQR)]\n",
    "    \n",
    "    return df_filtered\n",
    "\n",
    "# Call the function to remove outliers from the 'rating' column\n",
    "df_train_no_outliers = remove_outliers(df_train_final_merge, 'rating')\n",
    "\n",
    "# Plot the box plot again for the cleaned 'rating' feature\n",
    "plt.figure(figsize=(8, 6))\n",
    "sns.boxplot(x=df_train_no_outliers['rating'])\n",
    "plt.xlabel('Rating')\n",
    "plt.title('Box Plot - Rating (Outliers Removed)')\n",
    "plt.show()"
   ]
  },
  {
   "cell_type": "markdown",
   "metadata": {},
   "source": [
    "<a id=\"one\"></a>\n",
    "# 6. Word Cloud\n",
    "<a href=#cont>Back to Table of Contents</a>"
   ]
  },
  {
   "cell_type": "markdown",
   "metadata": {},
   "source": [
    "##### Frequency of each genre"
   ]
  },
  {
   "cell_type": "code",
   "execution_count": 37,
   "metadata": {},
   "outputs": [
    {
     "data": {
      "image/png": "[encoded data removed]",
      "text/plain": [
       "<Figure size 1000x500 with 1 Axes>"
      ]
     },
     "metadata": {},
     "output_type": "display_data"
    }
   ],
   "source": [
    "from wordcloud import WordCloud\n",
    "\n",
    "# Drop rows with missing (NaN) values in the 'genres' column\n",
    "df_movie_cleaned = df_movie.dropna(subset=['genres'])\n",
    "\n",
    "# Flatten the list of lists\n",
    "all_genres = [genre for sublist in df_movie_cleaned['genres'].tolist() for genre in sublist]\n",
    "\n",
    "# Count the frequency of each genre\n",
    "genre_counts = pd.Series(all_genres).value_counts()\n",
    "\n",
    "# Select the top 20 genres\n",
    "top_20_genres = genre_counts.head(20)\n",
    "\n",
    "# Create a WordCloud object\n",
    "wordcloud = WordCloud(width=800, height=400, background_color='white').generate_from_frequencies(top_20_genres)\n",
    "\n",
    "# Plot the WordCloud\n",
    "plt.figure(figsize=(10, 5))\n",
    "plt.imshow(wordcloud, interpolation='bilinear')\n",
    "plt.axis('off')\n",
    "plt.title('Top 20 Genres Word Cloud')\n",
    "plt.show()"
   ]
  },
  {
   "cell_type": "markdown",
   "metadata": {},
   "source": [
    "##### Frequency of tags"
   ]
  },
  {
   "cell_type": "code",
   "execution_count": 38,
   "metadata": {},
   "outputs": [
    {
     "data": {
      "image/png": "[encoded data removed]",
      "text/plain": [
       "<Figure size 1000x500 with 1 Axes>"
      ]
     },
     "metadata": {},
     "output_type": "display_data"
    }
   ],
   "source": [
    "# Count the frequency of each tag\n",
    "tag_counts = df_tag['tag'].value_counts()\n",
    "\n",
    "# Select the top 20 tags\n",
    "top_20_tags = tag_counts.head(20)\n",
    "\n",
    "# Create a WordCloud object\n",
    "wordcloud = WordCloud(width=800, height=400, background_color='white').generate_from_frequencies(top_20_tags)\n",
    "\n",
    "# Plot the WordCloud\n",
    "plt.figure(figsize=(10, 5))\n",
    "plt.imshow(wordcloud, interpolation='bilinear')\n",
    "plt.axis('off')\n",
    "plt.title('Top 20 Tags Word Cloud')\n",
    "plt.show()"
   ]
  },
  {
   "cell_type": "markdown",
   "metadata": {},
   "source": [
    "<a id=\"three\"></a>\n",
    "# 7. Feature Engineering\n",
    "<a class=\"anchor\" id=\"1.1\"></a>\n",
    "<a href=#cont>Back to Table of Contents</a>"
   ]
  },
  {
   "cell_type": "markdown",
   "metadata": {},
   "source": [
    "Convert data types to strings: The code converts the columns 'title_cast', 'plot_keywords', 'genres', and 'director' to string data types for string handling operations."
   ]
  },
  {
   "cell_type": "code",
   "execution_count": 39,
   "metadata": {
    "execution": {
     "iopub.execute_input": "2023-07-21T06:53:51.871497Z",
     "iopub.status.busy": "2023-07-21T06:53:51.871012Z",
     "iopub.status.idle": "2023-07-21T06:53:51.911095Z",
     "shell.execute_reply": "2023-07-21T06:53:51.910035Z",
     "shell.execute_reply.started": "2023-07-21T06:53:51.871453Z"
    }
   },
   "outputs": [
    {
     "data": {
      "text/html": [
       "<div>\n",
       "<style scoped>\n",
       "    .dataframe tbody tr th:only-of-type {\n",
       "        vertical-align: middle;\n",
       "    }\n",
       "\n",
       "    .dataframe tbody tr th {\n",
       "        vertical-align: top;\n",
       "    }\n",
       "\n",
       "    .dataframe thead th {\n",
       "        text-align: right;\n",
       "    }\n",
       "</style>\n",
       "<table border=\"1\" class=\"dataframe\">\n",
       "  <thead>\n",
       "    <tr style=\"text-align: right;\">\n",
       "      <th></th>\n",
       "      <th>movieId</th>\n",
       "      <th>title_cast</th>\n",
       "      <th>director</th>\n",
       "      <th>plot_keywords</th>\n",
       "      <th>genres</th>\n",
       "      <th>title</th>\n",
       "    </tr>\n",
       "  </thead>\n",
       "  <tbody>\n",
       "    <tr>\n",
       "      <th>0</th>\n",
       "      <td>1</td>\n",
       "      <td>Tom Hanks|Tim Allen|Don Rickles|Jim Varney|Wal...</td>\n",
       "      <td>John Lasseter</td>\n",
       "      <td>toy|rivalry|cowboy|cgi animation</td>\n",
       "      <td>[Adventure, Animation, Children, Comedy, Fantasy]</td>\n",
       "      <td>Toy Story</td>\n",
       "    </tr>\n",
       "    <tr>\n",
       "      <th>1</th>\n",
       "      <td>2</td>\n",
       "      <td>Robin Williams|Jonathan Hyde|Kirsten Dunst|Bra...</td>\n",
       "      <td>Jonathan Hensleigh</td>\n",
       "      <td>board game|adventurer|fight|game</td>\n",
       "      <td>[Adventure, Children, Fantasy]</td>\n",
       "      <td>Jumanji</td>\n",
       "    </tr>\n",
       "  </tbody>\n",
       "</table>\n",
       "</div>"
      ],
      "text/plain": [
       "   movieId                                         title_cast  \\\n",
       "0        1  Tom Hanks|Tim Allen|Don Rickles|Jim Varney|Wal...   \n",
       "1        2  Robin Williams|Jonathan Hyde|Kirsten Dunst|Bra...   \n",
       "\n",
       "             director                     plot_keywords  \\\n",
       "0       John Lasseter  toy|rivalry|cowboy|cgi animation   \n",
       "1  Jonathan Hensleigh  board game|adventurer|fight|game   \n",
       "\n",
       "                                              genres      title  \n",
       "0  [Adventure, Animation, Children, Comedy, Fantasy]  Toy Story  \n",
       "1                     [Adventure, Children, Fantasy]    Jumanji  "
      ]
     },
     "execution_count": 39,
     "metadata": {},
     "output_type": "execute_result"
    }
   ],
   "source": [
    "# Merge two dataframes\n",
    "df_1 = df_imdb[['movieId','title_cast','director', 'plot_keywords']]\n",
    "df_1 = df_1.merge(df_movie[['movieId', 'genres', 'title']], on='movieId', how='inner')\n",
    "df_1.head(2)"
   ]
  },
  {
   "cell_type": "markdown",
   "metadata": {},
   "source": [
    "Removing spaces between names: The code removes spaces between characters in the 'director' and 'title_cast' columns by converting them to lowercase and then joining the characters without spaces."
   ]
  },
  {
   "cell_type": "code",
   "execution_count": 40,
   "metadata": {
    "execution": {
     "iopub.execute_input": "2023-07-21T06:54:29.042792Z",
     "iopub.status.busy": "2023-07-21T06:54:29.042372Z",
     "iopub.status.idle": "2023-07-21T06:54:29.281686Z",
     "shell.execute_reply": "2023-07-21T06:54:29.280578Z",
     "shell.execute_reply.started": "2023-07-21T06:54:29.042756Z"
    }
   },
   "outputs": [
    {
     "data": {
      "text/html": [
       "<div>\n",
       "<style scoped>\n",
       "    .dataframe tbody tr th:only-of-type {\n",
       "        vertical-align: middle;\n",
       "    }\n",
       "\n",
       "    .dataframe tbody tr th {\n",
       "        vertical-align: top;\n",
       "    }\n",
       "\n",
       "    .dataframe thead th {\n",
       "        text-align: right;\n",
       "    }\n",
       "</style>\n",
       "<table border=\"1\" class=\"dataframe\">\n",
       "  <thead>\n",
       "    <tr style=\"text-align: right;\">\n",
       "      <th></th>\n",
       "      <th>movieId</th>\n",
       "      <th>title_cast</th>\n",
       "      <th>director</th>\n",
       "      <th>plot_keywords</th>\n",
       "      <th>genres</th>\n",
       "      <th>title</th>\n",
       "    </tr>\n",
       "  </thead>\n",
       "  <tbody>\n",
       "    <tr>\n",
       "      <th>0</th>\n",
       "      <td>1</td>\n",
       "      <td>[tomhanks, timallen, donrickles, jimvarney, wa...</td>\n",
       "      <td>johnlasseter</td>\n",
       "      <td>toy rivalry cowboy cgi animation</td>\n",
       "      <td>['adventure', 'animation', 'children', 'comedy...</td>\n",
       "      <td>Toy Story</td>\n",
       "    </tr>\n",
       "    <tr>\n",
       "      <th>1</th>\n",
       "      <td>2</td>\n",
       "      <td>[robinwilliams, jonathanhyde, kirstendunst, br...</td>\n",
       "      <td>jonathanhensleigh</td>\n",
       "      <td>board game adventurer fight game</td>\n",
       "      <td>['adventure', 'children', 'fantasy']</td>\n",
       "      <td>Jumanji</td>\n",
       "    </tr>\n",
       "  </tbody>\n",
       "</table>\n",
       "</div>"
      ],
      "text/plain": [
       "   movieId                                         title_cast  \\\n",
       "0        1  [tomhanks, timallen, donrickles, jimvarney, wa...   \n",
       "1        2  [robinwilliams, jonathanhyde, kirstendunst, br...   \n",
       "\n",
       "            director                     plot_keywords  \\\n",
       "0       johnlasseter  toy rivalry cowboy cgi animation   \n",
       "1  jonathanhensleigh  board game adventurer fight game   \n",
       "\n",
       "                                              genres      title  \n",
       "0  ['adventure', 'animation', 'children', 'comedy...  Toy Story  \n",
       "1               ['adventure', 'children', 'fantasy']    Jumanji  "
      ]
     },
     "execution_count": 40,
     "metadata": {},
     "output_type": "execute_result"
    }
   ],
   "source": [
    "# Convert data types to strings for string handling\n",
    "df_1['title_cast'] = df_1.title_cast.astype(str)\n",
    "df_1['plot_keywords'] = df_1.plot_keywords.astype(str)\n",
    "df_1['genres'] = df_1.genres.astype(str)\n",
    "df_1['director'] = df_1.director.astype(str)\n",
    "\n",
    "# Removing spaces between names\n",
    "df_1['director'] = df_1['director'].apply(lambda x: \"\".join(x.lower() for x in x.split()))\n",
    "df_1['title_cast'] = df_1['title_cast'].apply(lambda x: \"\".join(x.lower() for x in x.split()))\n",
    "\n",
    "# Discarding the pipes between the actors' full names and getting only the first three names\n",
    "df_1['title_cast'] = df_1['title_cast'].map(lambda x: x.split('|'))\n",
    "\n",
    "# Discarding the pipes between the plot keywords' and getting only the first five words\n",
    "df_1['plot_keywords'] = df_1['plot_keywords'].map(lambda x: x.split('|'))\n",
    "df_1['plot_keywords'] = df_1['plot_keywords'].apply(lambda x: \" \".join(x))\n",
    "\n",
    "# Discarding the pipes between the genres \n",
    "df_1['genres'] = df_1['genres'].map(lambda x: x.lower().split('|'))\n",
    "df_1['genres'] = df_1['genres'].apply(lambda x: \" \".join(x))\n",
    "\n",
    "df_1.head(2)"
   ]
  },
  {
   "cell_type": "markdown",
   "metadata": {},
   "source": [
    "Discarding pipes and extracting specific information: The code splits the 'title_cast' and 'plot_keywords' columns by '|' and keeps only the first three names in 'title_cast' and the first five words in 'plot_keywords'."
   ]
  },
  {
   "cell_type": "code",
   "execution_count": 41,
   "metadata": {
    "execution": {
     "iopub.execute_input": "2023-07-21T06:55:41.965715Z",
     "iopub.status.busy": "2023-07-21T06:55:41.965294Z",
     "iopub.status.idle": "2023-07-21T06:55:59.508996Z",
     "shell.execute_reply": "2023-07-21T06:55:59.507807Z",
     "shell.execute_reply.started": "2023-07-21T06:55:41.965679Z"
    }
   },
   "outputs": [],
   "source": [
    "#we convert the tille_cast column from list to string\n",
    "df_1['liststring'] = df_1['title_cast'].apply(lambda x: ','.join(map(str, x)))\n",
    "\n",
    "#we remove the commas between the string in each row\n",
    "df_1['liststring'] = df_1['liststring'].replace(',',' ', regex=True)\n",
    "\n",
    "#we choose keywords, cast(liststring), diector and genres column to use as our features\n",
    "df_features = df_1[['liststring','director','plot_keywords','genres']]\n",
    "\n",
    "#we combine the features columns into  single string\n",
    "df_1['combined_features'] = df_features['liststring'] +' '+ df_features['director'] +' '+ df_features['plot_keywords'] +' '+ df_features['genres']\n",
    "\n",
    "#we now feed the combined features to a CountVectorizer() object for getting the cv matrix.\n",
    "cv =CountVectorizer()\n",
    "cv_matrix = cv.fit_transform(df_1['combined_features'])\n",
    "\n",
    "#now we obtain the cosine similarity matrix from the cv matrix\n",
    "sim_score = cosine_similarity(cv_matrix,cv_matrix)\n",
    "\n",
    "df_1.set_index('title', inplace = True)\n",
    "indices = pd.Series(df_1.index)"
   ]
  },
  {
   "cell_type": "code",
   "execution_count": 42,
   "metadata": {
    "execution": {
     "iopub.execute_input": "2023-07-21T06:56:12.541934Z",
     "iopub.status.busy": "2023-07-21T06:56:12.541282Z",
     "iopub.status.idle": "2023-07-21T06:56:12.549908Z",
     "shell.execute_reply": "2023-07-21T06:56:12.548534Z",
     "shell.execute_reply.started": "2023-07-21T06:56:12.541884Z"
    }
   },
   "outputs": [
    {
     "name": "stdout",
     "output_type": "stream",
     "text": [
      "[[1.         0.10910895 0.07715167 ... 0.03026138 0.         0.07881104]\n",
      " [0.10910895 1.         0.         ... 0.06163336 0.         0.08025724]\n",
      " [0.07715167 0.         1.         ... 0.         0.         0.        ]\n",
      " ...\n",
      " [0.03026138 0.06163336 0.         ... 1.         0.         0.03338903]\n",
      " [0.         0.         0.         ... 0.         1.         0.        ]\n",
      " [0.07881104 0.08025724 0.         ... 0.03338903 0.         1.        ]]\n"
     ]
    }
   ],
   "source": [
    "print(sim_score)"
   ]
  },
  {
   "cell_type": "markdown",
   "metadata": {},
   "source": [
    "The code defines a function called 'recommendations' that takes a movie title, the number of recommended movies (n), and the similarity score matrix as input. It returns a list of 'n' movies that are most similar to the input movie based on their features."
   ]
  },
  {
   "cell_type": "code",
   "execution_count": 43,
   "metadata": {
    "execution": {
     "iopub.execute_input": "2023-07-21T06:56:52.099053Z",
     "iopub.status.busy": "2023-07-21T06:56:52.098591Z",
     "iopub.status.idle": "2023-07-21T06:56:52.107210Z",
     "shell.execute_reply": "2023-07-21T06:56:52.105877Z",
     "shell.execute_reply.started": "2023-07-21T06:56:52.099014Z"
    }
   },
   "outputs": [],
   "source": [
    "def recommendations(title,n,sim_score = sim_score):\n",
    "    \n",
    "    recommended_movies = []\n",
    "    \n",
    "    # gettin the index of the movie that matches the title\n",
    "    idx = indices[indices == title].index[0]\n",
    "\n",
    "    # creating a Series with the similarity scores in descending order\n",
    "    score_series = pd.Series(sim_score[idx]).sort_values(ascending = False)\n",
    "\n",
    "    # getting the indexes of the 10 most similar movies\n",
    "    top_n_indexes = list(score_series.iloc[1:n+1].index)\n",
    "    \n",
    "    # populating the list with the titles of the best n matching movies\n",
    "    for i in top_n_indexes:\n",
    "        recommended_movies.append(list(df_1.index)[i])\n",
    "        \n",
    "    return recommended_movies"
   ]
  },
  {
   "cell_type": "markdown",
   "metadata": {},
   "source": [
    "###### Conclusion\n",
    "\n",
    "<p><b>Technical audience:</b></p>\n",
    "\n",
    "<p>During the feature engineering process, we converted various textual columns such as 'title_cast', 'plot_keywords', 'genres', and 'director' into a suitable format for analysis. We treated the data as strings and applied several transformations to clean and extract relevant information. We removed spaces, discarded unnecessary characters, and converted lists of names and keywords into strings. Additionally, we combined all these features into a single string, which was then used to create a matrix of word counts using CountVectorizer. The final step involved calculating cosine similarity scores to measure the similarity between movies based on their features. This process enabled us to generate movie recommendations by identifying movies with similar attributes.</p>"
   ]
  },
  {
   "cell_type": "markdown",
   "metadata": {},
   "source": [
    "Build your movie recommender function that rates an independent movie </b> movie_id <b> by user </b> user_id"
   ]
  },
  {
   "cell_type": "code",
   "execution_count": 44,
   "metadata": {
    "execution": {
     "iopub.execute_input": "2023-07-21T06:58:41.922583Z",
     "iopub.status.busy": "2023-07-21T06:58:41.922150Z",
     "iopub.status.idle": "2023-07-21T06:59:11.811066Z",
     "shell.execute_reply": "2023-07-21T06:59:11.809643Z",
     "shell.execute_reply.started": "2023-07-21T06:58:41.922538Z"
    }
   },
   "outputs": [
    {
     "name": "stdout",
     "output_type": "stream",
     "text": [
      "Computing the cosine similarity matrix...\n",
      "Done computing similarity matrix.\n",
      "Computing the cosine similarity matrix...\n",
      "Done computing similarity matrix.\n",
      "Computing the cosine similarity matrix...\n",
      "Done computing similarity matrix.\n",
      "Computing the cosine similarity matrix...\n",
      "Done computing similarity matrix.\n",
      "Computing the cosine similarity matrix...\n",
      "Done computing similarity matrix.\n",
      "Evaluating RMSE of algorithm KNNWithMeans on 5 split(s).\n",
      "\n",
      "                  Fold 1  Fold 2  Fold 3  Fold 4  Fold 5  Mean    Std     \n",
      "RMSE (testset)    1.1262  1.1104  1.1095  1.1250  1.1483  1.1239  0.0141  \n",
      "Fit time          20.81   12.74   17.58   12.05   9.42    14.52   4.10    \n",
      "Test time         0.17    0.18    0.27    0.08    0.08    0.16    0.07    \n"
     ]
    }
   ],
   "source": [
    "# Creating a small test dataframe to evaluate our models\n",
    "tests = df_train.copy()\n",
    "tests.drop(['timestamp'], axis=1, inplace=True)\n",
    "tests = tests.head(20000)\n",
    "\n",
    "# Creating the training data\n",
    "reader = Reader(rating_scale=(0.5, 5))\n",
    "test_data = Dataset.load_from_df(tests[['userId','movieId','rating']], reader)\n",
    "\n",
    "# Compute similarities between users using cosine distance\n",
    "sim_options = {\"name\": \"cosine\",\n",
    "               \"user_based\": True}  \n",
    "\n",
    "# Evaluate the model \n",
    "user = KNNWithMeans(sim_options=sim_options)\n",
    "cv = cross_validate(user, test_data, cv=5, measures=['RMSE'], verbose=True)"
   ]
  },
  {
   "cell_type": "code",
   "execution_count": 45,
   "metadata": {
    "execution": {
     "iopub.execute_input": "2023-07-21T06:59:21.262202Z",
     "iopub.status.busy": "2023-07-21T06:59:21.261795Z",
     "iopub.status.idle": "2023-07-21T06:59:24.456504Z",
     "shell.execute_reply": "2023-07-21T06:59:24.455330Z",
     "shell.execute_reply.started": "2023-07-21T06:59:21.262171Z"
    }
   },
   "outputs": [
    {
     "name": "stdout",
     "output_type": "stream",
     "text": [
      "Computing the cosine similarity matrix...\n",
      "Done computing similarity matrix.\n",
      "Computing the cosine similarity matrix...\n",
      "Done computing similarity matrix.\n",
      "Computing the cosine similarity matrix...\n",
      "Done computing similarity matrix.\n",
      "Computing the cosine similarity matrix...\n",
      "Done computing similarity matrix.\n",
      "Computing the cosine similarity matrix...\n",
      "Done computing similarity matrix.\n",
      "Evaluating RMSE of algorithm KNNWithMeans on 5 split(s).\n",
      "\n",
      "                  Fold 1  Fold 2  Fold 3  Fold 4  Fold 5  Mean    Std     \n",
      "RMSE (testset)    1.0778  1.0898  1.0754  1.0877  1.0747  1.0811  0.0064  \n",
      "Fit time          0.67    0.77    0.58    0.57    0.61    0.64    0.07    \n",
      "Test time         0.07    0.09    0.08    0.10    0.06    0.08    0.01    \n"
     ]
    }
   ],
   "source": [
    "# Compute similarities between items using cosine distance\n",
    "sim_options = {\"name\": \"cosine\",\n",
    "               \"user_based\": False}  \n",
    "\n",
    "# Fit the KNNwithmeans algorithm to the training set\n",
    "item_based = KNNWithMeans(sim_options=sim_options)\n",
    "\n",
    "# Evaluate the model \n",
    "cv = cross_validate(item_based, test_data, cv=5, measures=['RMSE'], verbose=True)"
   ]
  },
  {
   "cell_type": "markdown",
   "metadata": {},
   "source": [
    "<a id=\"three\"></a>\n",
    "# 8. Model Building\n",
    "<a class=\"anchor\" id=\"1.1\"></a>\n",
    "<a href=#cont>Back to Table of Contents</a>"
   ]
  },
  {
   "cell_type": "code",
   "execution_count": 46,
   "metadata": {
    "execution": {
     "iopub.execute_input": "2023-07-21T07:00:35.308126Z",
     "iopub.status.busy": "2023-07-21T07:00:35.307713Z",
     "iopub.status.idle": "2023-07-21T07:00:46.045419Z",
     "shell.execute_reply": "2023-07-21T07:00:46.044281Z",
     "shell.execute_reply.started": "2023-07-21T07:00:35.308095Z"
    }
   },
   "outputs": [],
   "source": [
    "# Loading as Surprise dataframe\n",
    "reader = Reader(rating_scale=(0, 5))\n",
    "\n",
    "# Data selected for model training\n",
    "data = Dataset.load_from_df(df_train[['userId', 'movieId', 'rating']], reader)"
   ]
  },
  {
   "cell_type": "code",
   "execution_count": 47,
   "metadata": {
    "execution": {
     "iopub.execute_input": "2023-07-21T07:01:44.830416Z",
     "iopub.status.busy": "2023-07-21T07:01:44.830019Z",
     "iopub.status.idle": "2023-07-21T07:02:14.005128Z",
     "shell.execute_reply": "2023-07-21T07:02:14.004009Z",
     "shell.execute_reply.started": "2023-07-21T07:01:44.830386Z"
    }
   },
   "outputs": [],
   "source": [
    "# Split the data\n",
    "X_Train, X_Test = train_test_split(data, test_size=0.01, random_state=42)"
   ]
  },
  {
   "cell_type": "markdown",
   "metadata": {},
   "source": [
    "SVD base model"
   ]
  },
  {
   "cell_type": "code",
   "execution_count": 48,
   "metadata": {
    "execution": {
     "iopub.execute_input": "2023-07-21T07:03:34.065235Z",
     "iopub.status.busy": "2023-07-21T07:03:34.064365Z",
     "iopub.status.idle": "2023-07-21T07:03:34.070275Z",
     "shell.execute_reply": "2023-07-21T07:03:34.068851Z",
     "shell.execute_reply.started": "2023-07-21T07:03:34.065194Z"
    }
   },
   "outputs": [],
   "source": [
    "# Initialize the SVD algorithm\n",
    "svd = SVD(n_factors = 200, n_epochs = 30, lr_all = 0.005, reg_all = 0.02, init_std_dev=0.02)"
   ]
  },
  {
   "cell_type": "code",
   "execution_count": 49,
   "metadata": {
    "execution": {
     "iopub.execute_input": "2023-07-21T07:03:48.675322Z",
     "iopub.status.busy": "2023-07-21T07:03:48.674900Z",
     "iopub.status.idle": "2023-07-21T07:07:23.784075Z",
     "shell.execute_reply": "2023-07-21T07:07:23.782956Z",
     "shell.execute_reply.started": "2023-07-21T07:03:48.675286Z"
    }
   },
   "outputs": [
    {
     "data": {
      "text/plain": [
       "<surprise.prediction_algorithms.matrix_factorization.SVD at 0x154a022a3a0>"
      ]
     },
     "execution_count": 49,
     "metadata": {},
     "output_type": "execute_result"
    }
   ],
   "source": [
    "# Fitting the train data\n",
    "svd.fit(X_Train)"
   ]
  },
  {
   "cell_type": "code",
   "execution_count": 50,
   "metadata": {
    "execution": {
     "iopub.execute_input": "2023-07-21T07:09:09.376673Z",
     "iopub.status.busy": "2023-07-21T07:09:09.376108Z",
     "iopub.status.idle": "2023-07-21T07:09:10.450701Z",
     "shell.execute_reply": "2023-07-21T07:09:10.449612Z",
     "shell.execute_reply.started": "2023-07-21T07:09:09.376623Z"
    }
   },
   "outputs": [],
   "source": [
    "# Make predictions with the test data\n",
    "svd_prediction = svd.test(X_Test) "
   ]
  },
  {
   "cell_type": "code",
   "execution_count": 51,
   "metadata": {
    "execution": {
     "iopub.execute_input": "2023-07-21T07:09:17.999977Z",
     "iopub.status.busy": "2023-07-21T07:09:17.999568Z",
     "iopub.status.idle": "2023-07-21T07:09:18.013979Z",
     "shell.execute_reply": "2023-07-21T07:09:18.012885Z",
     "shell.execute_reply.started": "2023-07-21T07:09:17.999936Z"
    }
   },
   "outputs": [
    {
     "data": {
      "text/html": [
       "<div>\n",
       "<style scoped>\n",
       "    .dataframe tbody tr th:only-of-type {\n",
       "        vertical-align: middle;\n",
       "    }\n",
       "\n",
       "    .dataframe tbody tr th {\n",
       "        vertical-align: top;\n",
       "    }\n",
       "\n",
       "    .dataframe thead th {\n",
       "        text-align: right;\n",
       "    }\n",
       "</style>\n",
       "<table border=\"1\" class=\"dataframe\">\n",
       "  <thead>\n",
       "    <tr style=\"text-align: right;\">\n",
       "      <th></th>\n",
       "      <th>uid</th>\n",
       "      <th>iid</th>\n",
       "      <th>r_ui</th>\n",
       "      <th>est</th>\n",
       "      <th>details</th>\n",
       "    </tr>\n",
       "  </thead>\n",
       "  <tbody>\n",
       "    <tr>\n",
       "      <th>0</th>\n",
       "      <td>19094</td>\n",
       "      <td>364</td>\n",
       "      <td>5.0</td>\n",
       "      <td>4.560199</td>\n",
       "      <td>{'was_impossible': False}</td>\n",
       "    </tr>\n",
       "    <tr>\n",
       "      <th>1</th>\n",
       "      <td>42032</td>\n",
       "      <td>1301</td>\n",
       "      <td>4.5</td>\n",
       "      <td>3.587974</td>\n",
       "      <td>{'was_impossible': False}</td>\n",
       "    </tr>\n",
       "  </tbody>\n",
       "</table>\n",
       "</div>"
      ],
      "text/plain": [
       "     uid   iid  r_ui       est                    details\n",
       "0  19094   364   5.0  4.560199  {'was_impossible': False}\n",
       "1  42032  1301   4.5  3.587974  {'was_impossible': False}"
      ]
     },
     "execution_count": 51,
     "metadata": {},
     "output_type": "execute_result"
    }
   ],
   "source": [
    "# View the test data\n",
    "svd_test = pd.DataFrame(svd_prediction)\n",
    "svd_test.head(2)"
   ]
  },
  {
   "cell_type": "code",
   "execution_count": 52,
   "metadata": {
    "execution": {
     "iopub.execute_input": "2023-07-21T07:09:38.138315Z",
     "iopub.status.busy": "2023-07-21T07:09:38.137923Z",
     "iopub.status.idle": "2023-07-21T07:16:19.490455Z",
     "shell.execute_reply": "2023-07-21T07:16:19.489375Z",
     "shell.execute_reply.started": "2023-07-21T07:09:38.138285Z"
    }
   },
   "outputs": [],
   "source": [
    "# Here we redict ratings for every userId or movieId pair\n",
    "svd_rating_prediction = [svd.predict(row.userId, row.movieId) for _,row in df_test.iterrows()]\n",
    "#rating_prediction"
   ]
  },
  {
   "cell_type": "code",
   "execution_count": 53,
   "metadata": {
    "execution": {
     "iopub.execute_input": "2023-07-21T07:16:41.681107Z",
     "iopub.status.busy": "2023-07-21T07:16:41.680680Z",
     "iopub.status.idle": "2023-07-21T07:17:11.373123Z",
     "shell.execute_reply": "2023-07-21T07:17:11.372065Z",
     "shell.execute_reply.started": "2023-07-21T07:16:41.681075Z"
    }
   },
   "outputs": [
    {
     "data": {
      "text/html": [
       "<div>\n",
       "<style scoped>\n",
       "    .dataframe tbody tr th:only-of-type {\n",
       "        vertical-align: middle;\n",
       "    }\n",
       "\n",
       "    .dataframe tbody tr th {\n",
       "        vertical-align: top;\n",
       "    }\n",
       "\n",
       "    .dataframe thead th {\n",
       "        text-align: right;\n",
       "    }\n",
       "</style>\n",
       "<table border=\"1\" class=\"dataframe\">\n",
       "  <thead>\n",
       "    <tr style=\"text-align: right;\">\n",
       "      <th></th>\n",
       "      <th>uid</th>\n",
       "      <th>iid</th>\n",
       "      <th>r_ui</th>\n",
       "      <th>est</th>\n",
       "      <th>details</th>\n",
       "    </tr>\n",
       "  </thead>\n",
       "  <tbody>\n",
       "    <tr>\n",
       "      <th>0</th>\n",
       "      <td>1</td>\n",
       "      <td>2011</td>\n",
       "      <td>None</td>\n",
       "      <td>3.150040</td>\n",
       "      <td>{'was_impossible': False}</td>\n",
       "    </tr>\n",
       "    <tr>\n",
       "      <th>1</th>\n",
       "      <td>1</td>\n",
       "      <td>4144</td>\n",
       "      <td>None</td>\n",
       "      <td>4.090985</td>\n",
       "      <td>{'was_impossible': False}</td>\n",
       "    </tr>\n",
       "    <tr>\n",
       "      <th>2</th>\n",
       "      <td>1</td>\n",
       "      <td>5767</td>\n",
       "      <td>None</td>\n",
       "      <td>3.792166</td>\n",
       "      <td>{'was_impossible': False}</td>\n",
       "    </tr>\n",
       "    <tr>\n",
       "      <th>3</th>\n",
       "      <td>1</td>\n",
       "      <td>6711</td>\n",
       "      <td>None</td>\n",
       "      <td>4.155746</td>\n",
       "      <td>{'was_impossible': False}</td>\n",
       "    </tr>\n",
       "    <tr>\n",
       "      <th>4</th>\n",
       "      <td>1</td>\n",
       "      <td>7318</td>\n",
       "      <td>None</td>\n",
       "      <td>2.950678</td>\n",
       "      <td>{'was_impossible': False}</td>\n",
       "    </tr>\n",
       "    <tr>\n",
       "      <th>...</th>\n",
       "      <td>...</td>\n",
       "      <td>...</td>\n",
       "      <td>...</td>\n",
       "      <td>...</td>\n",
       "      <td>...</td>\n",
       "    </tr>\n",
       "    <tr>\n",
       "      <th>5000014</th>\n",
       "      <td>162541</td>\n",
       "      <td>4079</td>\n",
       "      <td>None</td>\n",
       "      <td>3.651160</td>\n",
       "      <td>{'was_impossible': False}</td>\n",
       "    </tr>\n",
       "    <tr>\n",
       "      <th>5000015</th>\n",
       "      <td>162541</td>\n",
       "      <td>4467</td>\n",
       "      <td>None</td>\n",
       "      <td>3.919589</td>\n",
       "      <td>{'was_impossible': False}</td>\n",
       "    </tr>\n",
       "    <tr>\n",
       "      <th>5000016</th>\n",
       "      <td>162541</td>\n",
       "      <td>4980</td>\n",
       "      <td>None</td>\n",
       "      <td>2.869577</td>\n",
       "      <td>{'was_impossible': False}</td>\n",
       "    </tr>\n",
       "    <tr>\n",
       "      <th>5000017</th>\n",
       "      <td>162541</td>\n",
       "      <td>5689</td>\n",
       "      <td>None</td>\n",
       "      <td>2.913585</td>\n",
       "      <td>{'was_impossible': False}</td>\n",
       "    </tr>\n",
       "    <tr>\n",
       "      <th>5000018</th>\n",
       "      <td>162541</td>\n",
       "      <td>7153</td>\n",
       "      <td>None</td>\n",
       "      <td>4.933546</td>\n",
       "      <td>{'was_impossible': False}</td>\n",
       "    </tr>\n",
       "  </tbody>\n",
       "</table>\n",
       "<p>5000019 rows × 5 columns</p>\n",
       "</div>"
      ],
      "text/plain": [
       "            uid   iid  r_ui       est                    details\n",
       "0             1  2011  None  3.150040  {'was_impossible': False}\n",
       "1             1  4144  None  4.090985  {'was_impossible': False}\n",
       "2             1  5767  None  3.792166  {'was_impossible': False}\n",
       "3             1  6711  None  4.155746  {'was_impossible': False}\n",
       "4             1  7318  None  2.950678  {'was_impossible': False}\n",
       "...         ...   ...   ...       ...                        ...\n",
       "5000014  162541  4079  None  3.651160  {'was_impossible': False}\n",
       "5000015  162541  4467  None  3.919589  {'was_impossible': False}\n",
       "5000016  162541  4980  None  2.869577  {'was_impossible': False}\n",
       "5000017  162541  5689  None  2.913585  {'was_impossible': False}\n",
       "5000018  162541  7153  None  4.933546  {'was_impossible': False}\n",
       "\n",
       "[5000019 rows x 5 columns]"
      ]
     },
     "execution_count": 53,
     "metadata": {},
     "output_type": "execute_result"
    }
   ],
   "source": [
    "svd_pred = pd.DataFrame(svd_rating_prediction)\n",
    "svd_pred"
   ]
  },
  {
   "cell_type": "code",
   "execution_count": 54,
   "metadata": {
    "execution": {
     "iopub.execute_input": "2023-07-21T07:17:18.589600Z",
     "iopub.status.busy": "2023-07-21T07:17:18.588801Z",
     "iopub.status.idle": "2023-07-21T07:17:18.971369Z",
     "shell.execute_reply": "2023-07-21T07:17:18.970360Z",
     "shell.execute_reply.started": "2023-07-21T07:17:18.589530Z"
    }
   },
   "outputs": [
    {
     "data": {
      "text/html": [
       "<div>\n",
       "<style scoped>\n",
       "    .dataframe tbody tr th:only-of-type {\n",
       "        vertical-align: middle;\n",
       "    }\n",
       "\n",
       "    .dataframe tbody tr th {\n",
       "        vertical-align: top;\n",
       "    }\n",
       "\n",
       "    .dataframe thead th {\n",
       "        text-align: right;\n",
       "    }\n",
       "</style>\n",
       "<table border=\"1\" class=\"dataframe\">\n",
       "  <thead>\n",
       "    <tr style=\"text-align: right;\">\n",
       "      <th></th>\n",
       "      <th>userId</th>\n",
       "      <th>movieId</th>\n",
       "      <th>rating</th>\n",
       "    </tr>\n",
       "  </thead>\n",
       "  <tbody>\n",
       "    <tr>\n",
       "      <th>0</th>\n",
       "      <td>1</td>\n",
       "      <td>2011</td>\n",
       "      <td>3.150040</td>\n",
       "    </tr>\n",
       "    <tr>\n",
       "      <th>1</th>\n",
       "      <td>1</td>\n",
       "      <td>4144</td>\n",
       "      <td>4.090985</td>\n",
       "    </tr>\n",
       "  </tbody>\n",
       "</table>\n",
       "</div>"
      ],
      "text/plain": [
       "   userId  movieId    rating\n",
       "0       1     2011  3.150040\n",
       "1       1     4144  4.090985"
      ]
     },
     "execution_count": 54,
     "metadata": {},
     "output_type": "execute_result"
    }
   ],
   "source": [
    "# Rename predictions to original names\n",
    "svd_pred = svd_pred.rename(columns={'uid':'userId', 'iid':'movieId','est':'rating'})\n",
    "svd_pred.drop(['r_ui','details'],axis=1,inplace=True)\n",
    "\n",
    "svd_pred.head(2)"
   ]
  },
  {
   "cell_type": "code",
   "execution_count": 55,
   "metadata": {
    "execution": {
     "iopub.execute_input": "2023-07-21T07:17:33.696096Z",
     "iopub.status.busy": "2023-07-21T07:17:33.695683Z",
     "iopub.status.idle": "2023-07-21T07:19:27.257765Z",
     "shell.execute_reply": "2023-07-21T07:19:27.256753Z",
     "shell.execute_reply.started": "2023-07-21T07:17:33.696065Z"
    }
   },
   "outputs": [
    {
     "data": {
      "text/html": [
       "<div>\n",
       "<style scoped>\n",
       "    .dataframe tbody tr th:only-of-type {\n",
       "        vertical-align: middle;\n",
       "    }\n",
       "\n",
       "    .dataframe tbody tr th {\n",
       "        vertical-align: top;\n",
       "    }\n",
       "\n",
       "    .dataframe thead th {\n",
       "        text-align: right;\n",
       "    }\n",
       "</style>\n",
       "<table border=\"1\" class=\"dataframe\">\n",
       "  <thead>\n",
       "    <tr style=\"text-align: right;\">\n",
       "      <th></th>\n",
       "      <th>userId</th>\n",
       "      <th>movieId</th>\n",
       "      <th>rating</th>\n",
       "      <th>Id</th>\n",
       "    </tr>\n",
       "  </thead>\n",
       "  <tbody>\n",
       "    <tr>\n",
       "      <th>0</th>\n",
       "      <td>1</td>\n",
       "      <td>2011</td>\n",
       "      <td>3.150040</td>\n",
       "      <td>1_2011</td>\n",
       "    </tr>\n",
       "    <tr>\n",
       "      <th>1</th>\n",
       "      <td>1</td>\n",
       "      <td>4144</td>\n",
       "      <td>4.090985</td>\n",
       "      <td>1_4144</td>\n",
       "    </tr>\n",
       "  </tbody>\n",
       "</table>\n",
       "</div>"
      ],
      "text/plain": [
       "   userId  movieId    rating      Id\n",
       "0       1     2011  3.150040  1_2011\n",
       "1       1     4144  4.090985  1_4144"
      ]
     },
     "execution_count": 55,
     "metadata": {},
     "output_type": "execute_result"
    }
   ],
   "source": [
    "# Concatenating userId or movieId\n",
    "svd_pred['Id'] = svd_pred.apply(lambda x:'%s_%s' % (x['userId'],x['movieId']),axis=1)\n",
    "svd_pred['Id'] = svd_pred.apply(lambda x:'%s_%s' % (x['userId'],x['movieId']),axis=1) #code to run twice\n",
    "\n",
    "svd_pred.head(2)"
   ]
  },
  {
   "cell_type": "code",
   "execution_count": 56,
   "metadata": {
    "execution": {
     "iopub.execute_input": "2023-07-21T07:19:42.263810Z",
     "iopub.status.busy": "2023-07-21T07:19:42.263408Z",
     "iopub.status.idle": "2023-07-21T07:19:42.401348Z",
     "shell.execute_reply": "2023-07-21T07:19:42.400006Z",
     "shell.execute_reply.started": "2023-07-21T07:19:42.263778Z"
    }
   },
   "outputs": [],
   "source": [
    "# Drop userId and movieId\n",
    "svd_pred.drop(['userId', 'movieId'], inplace=True, axis= 1)"
   ]
  },
  {
   "cell_type": "code",
   "execution_count": 57,
   "metadata": {
    "execution": {
     "iopub.execute_input": "2023-07-21T07:19:48.828215Z",
     "iopub.status.busy": "2023-07-21T07:19:48.827818Z",
     "iopub.status.idle": "2023-07-21T07:19:48.994296Z",
     "shell.execute_reply": "2023-07-21T07:19:48.993153Z",
     "shell.execute_reply.started": "2023-07-21T07:19:48.828181Z"
    }
   },
   "outputs": [
    {
     "data": {
      "text/html": [
       "<div>\n",
       "<style scoped>\n",
       "    .dataframe tbody tr th:only-of-type {\n",
       "        vertical-align: middle;\n",
       "    }\n",
       "\n",
       "    .dataframe tbody tr th {\n",
       "        vertical-align: top;\n",
       "    }\n",
       "\n",
       "    .dataframe thead th {\n",
       "        text-align: right;\n",
       "    }\n",
       "</style>\n",
       "<table border=\"1\" class=\"dataframe\">\n",
       "  <thead>\n",
       "    <tr style=\"text-align: right;\">\n",
       "      <th></th>\n",
       "      <th>Id</th>\n",
       "      <th>rating</th>\n",
       "    </tr>\n",
       "  </thead>\n",
       "  <tbody>\n",
       "    <tr>\n",
       "      <th>0</th>\n",
       "      <td>1_2011</td>\n",
       "      <td>3.150040</td>\n",
       "    </tr>\n",
       "    <tr>\n",
       "      <th>1</th>\n",
       "      <td>1_4144</td>\n",
       "      <td>4.090985</td>\n",
       "    </tr>\n",
       "  </tbody>\n",
       "</table>\n",
       "</div>"
      ],
      "text/plain": [
       "       Id    rating\n",
       "0  1_2011  3.150040\n",
       "1  1_4144  4.090985"
      ]
     },
     "execution_count": 57,
     "metadata": {},
     "output_type": "execute_result"
    }
   ],
   "source": [
    "# View the dataset\n",
    "svd_pred = svd_pred[['Id', 'rating']]\n",
    "\n",
    "svd_pred.head(2)"
   ]
  },
  {
   "cell_type": "code",
   "execution_count": 58,
   "metadata": {
    "execution": {
     "iopub.execute_input": "2023-07-21T07:20:00.649544Z",
     "iopub.status.busy": "2023-07-21T07:20:00.648409Z",
     "iopub.status.idle": "2023-07-21T07:20:00.658122Z",
     "shell.execute_reply": "2023-07-21T07:20:00.656974Z",
     "shell.execute_reply.started": "2023-07-21T07:20:00.649491Z"
    }
   },
   "outputs": [
    {
     "data": {
      "text/plain": [
       "(5000019, 2)"
      ]
     },
     "execution_count": 58,
     "metadata": {},
     "output_type": "execute_result"
    }
   ],
   "source": [
    "svd_pred.shape"
   ]
  },
  {
   "cell_type": "markdown",
   "metadata": {},
   "source": [
    "<a id=\"seven\"></a>\n",
    "## 9. Model Explanation\n",
    "<a class=\"anchor\" id=\"1.1\"></a>\n",
    "<a href=#cont>Back to Table of Contents</a>"
   ]
  },
  {
   "cell_type": "markdown",
   "metadata": {},
   "source": [
    "#### About SVD model"
   ]
  },
  {
   "cell_type": "markdown",
   "metadata": {},
   "source": [
    "A Singular Value Decomposition (SVD) model is a powerful matrix factorization technique used in various fields, including data analysis and machine learning. It decomposes a given matrix into three separate matrices, capturing underlying patterns and reducing dimensionality. By selecting the most significant singular values, SVD creates lower-dimensional representations of the original data, making it easier to interpret and analyze. In the context of recommender systems, SVD is used to predict missing values in user-item matrices, facilitating personalized recommendations based on user behavior. Its ability to handle sparse data and uncover latent features makes SVD a valuable tool for improving accuracy and efficiency in recommendation algorithms"
   ]
  },
  {
   "cell_type": "markdown",
   "metadata": {},
   "source": [
    "<a id=\"eight\"></a>\n",
    "# 10. Conclusion\n",
    "<a class=\"anchor\" id=\"1.1\"></a>\n",
    "<a href=#cont>Back to Table of Contents</a>"
   ]
  },
  {
   "cell_type": "markdown",
   "metadata": {},
   "source": [
    "Embracing the challenge of building a recommendation algorithm that harnesses the power of content or collaborative filtering, lies the key to unlocking immense value in the digital landscape. By accurately predicting user preferences and rating for yet-to-be-viewed movies, the recommender system transforms content discovery into a seamless and enchanting experience. As users are presented with tailored recommendations, content providers stand to reap the rewards of increased revenue and heightened platform affinity, fostering a stronger bond between audiences and the world of entertainment. With this technological marvel, the future of content consumption shines brighter than ever before."
   ]
  },
  {
   "cell_type": "markdown",
   "metadata": {},
   "source": [
    "<a id=\"three\"></a>\n",
    "# 11. Generate kaggle submission\n",
    "<a class=\"anchor\" id=\"1.1\"></a>\n",
    "<a href=#cont>Back to Table of Contents</a>"
   ]
  },
  {
   "cell_type": "markdown",
   "metadata": {},
   "source": [
    "##### The Kaggle submission was generated using the SVD model as the primary method for prediction."
   ]
  },
  {
   "cell_type": "code",
   "execution_count": 59,
   "metadata": {
    "execution": {
     "iopub.execute_input": "2023-07-21T07:20:47.157339Z",
     "iopub.status.busy": "2023-07-21T07:20:47.156921Z",
     "iopub.status.idle": "2023-07-21T07:21:00.786204Z",
     "shell.execute_reply": "2023-07-21T07:21:00.784968Z",
     "shell.execute_reply.started": "2023-07-21T07:20:47.157297Z"
    }
   },
   "outputs": [
    {
     "name": "stdout",
     "output_type": "stream",
     "text": [
      "Done\n"
     ]
    }
   ],
   "source": [
    "svd_pred.to_csv(\"submission.csv\", index=False)\n",
    "print(\"Done\")"
   ]
  },
  {
   "cell_type": "markdown",
   "metadata": {},
   "source": [
    "<a id=\"ten\"></a>\n",
    "## 12. References\n",
    "<a class=\"anchor\" id=\"1.1\"></a>\n",
    "<a href=#cont>Back to Table of Contents</a>"
   ]
  },
  {
   "cell_type": "markdown",
   "metadata": {},
   "source": [
    "1. C. Sun, “Predict movie rating,” https:\n",
    "//nycdatascience.com/blog/student-works/\n",
    "web-scraping/movie-rating-prediction/, 2016"
   ]
  },
  {
   "cell_type": "markdown",
   "metadata": {},
   "source": [
    "2. Y. J. Lim and Y. W. Teh, “Variational bayesian ap-\n",
    "proach to movie rating prediction,” in Proceedings of\n",
    "KDD Cup and Workshop, vol. 7, 2007"
   ]
  }
 ],
 "metadata": {
  "kernelspec": {
   "display_name": "Python 3 (ipykernel)",
   "language": "python",
   "name": "python3"
  },
  "language_info": {
   "codemirror_mode": {
    "name": "ipython",
    "version": 3
   },
   "file_extension": ".py",
   "mimetype": "text/x-python",
   "name": "python",
   "nbconvert_exporter": "python",
   "pygments_lexer": "ipython3",
   "version": "3.9.13"
  }
 },
 "nbformat": 4,
 "nbformat_minor": 4
}
